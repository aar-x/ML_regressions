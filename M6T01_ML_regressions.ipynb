{
  "nbformat": 4,
  "nbformat_minor": 0,
  "metadata": {
    "colab": {
      "provenance": []
    },
    "kernelspec": {
      "name": "python3",
      "display_name": "Python 3"
    },
    "language_info": {
      "name": "python"
    }
  },
  "cells": [
    {
      "cell_type": "markdown",
      "source": [
        "Exercicis per practicar amb regressions."
      ],
      "metadata": {
        "id": "UPwrlkc80Unk"
      }
    },
    {
      "cell_type": "code",
      "execution_count": 51,
      "metadata": {
        "id": "YOekKTyZmI90"
      },
      "outputs": [],
      "source": [
        "import pandas as pd"
      ]
    },
    {
      "cell_type": "code",
      "source": [
        "print(open('housing data description.txt').read())"
      ],
      "metadata": {
        "id": "-61zHEsbNsB4",
        "colab": {
          "base_uri": "https://localhost:8080/"
        },
        "outputId": "a606bf60-f673-4f3f-9180-32ec55ad7f96"
      },
      "execution_count": 52,
      "outputs": [
        {
          "output_type": "stream",
          "name": "stdout",
          "text": [
            "1. Title: Boston Housing Data\n",
            "\n",
            "2. Sources:\n",
            "   (a) Origin:  This dataset was taken from the StatLib library which is\n",
            "                maintained at Carnegie Mellon University.\n",
            "   (b) Creator:  Harrison, D. and Rubinfeld, D.L. 'Hedonic prices and the \n",
            "                 demand for clean air', J. Environ. Economics & Management,\n",
            "                 vol.5, 81-102, 1978.\n",
            "   (c) Date: July 7, 1993\n",
            "\n",
            "3. Past Usage:\n",
            "   -   Used in Belsley, Kuh & Welsch, 'Regression diagnostics ...', Wiley, \n",
            "       1980.   N.B. Various transformations are used in the table on\n",
            "       pages 244-261.\n",
            "    -  Quinlan,R. (1993). Combining Instance-Based and Model-Based Learning.\n",
            "       In Proceedings on the Tenth International Conference of Machine \n",
            "       Learning, 236-243, University of Massachusetts, Amherst. Morgan\n",
            "       Kaufmann.\n",
            "\n",
            "4. Relevant Information:\n",
            "\n",
            "   Concerns housing values in suburbs of Boston.\n",
            "\n",
            "5. Number of Instances: 506\n",
            "\n",
            "6. Number of Attributes: 13 continuous attributes (including \"class\"\n",
            "                         attribute \"MEDV\"), 1 binary-valued attribute.\n",
            "\n",
            "7. Attribute Information:\n",
            "\n",
            "    1. CRIM      per capita crime rate by town\n",
            "    2. ZN        proportion of residential land zoned for lots over \n",
            "                 25,000 sq.ft.\n",
            "    3. INDUS     proportion of non-retail business acres per town\n",
            "    4. CHAS      Charles River dummy variable (= 1 if tract bounds \n",
            "                 river; 0 otherwise)\n",
            "    5. NOX       nitric oxides concentration (parts per 10 million)\n",
            "    6. RM        average number of rooms per dwelling\n",
            "    7. AGE       proportion of owner-occupied units built prior to 1940\n",
            "    8. DIS       weighted distances to five Boston employment centres\n",
            "    9. RAD       index of accessibility to radial highways\n",
            "    10. TAX      full-value property-tax rate per $10,000\n",
            "    11. PTRATIO  pupil-teacher ratio by town\n",
            "    12. B        1000(Bk - 0.63)^2 where Bk is the proportion of blacks \n",
            "                 by town\n",
            "    13. LSTAT    % lower status of the population\n",
            "    14. MEDV     Median value of owner-occupied homes in $1000's\n",
            "\n",
            "8. Missing Attribute Values:  None.\n",
            "\n",
            "\n",
            "\n",
            "\n"
          ]
        }
      ]
    },
    {
      "cell_type": "code",
      "source": [
        "columnas = ['CRIM', 'ZN', 'INDUS', 'CHAS', 'NOX', 'RM', 'AGE', 'DIS', 'RAD', 'TAX', 'PTRATIO', 'B', 'LSTAT', 'MEDV']\n",
        "viviendas = pd.read_csv('housing data.csv', sep=',', names=columnas)"
      ],
      "metadata": {
        "id": "bBW8w1d2NxVk"
      },
      "execution_count": 53,
      "outputs": []
    },
    {
      "cell_type": "code",
      "source": [
        "viviendas.head(2)"
      ],
      "metadata": {
        "colab": {
          "base_uri": "https://localhost:8080/",
          "height": 132
        },
        "id": "27pzXyAuS1JM",
        "outputId": "4bf7e792-c4fe-45d0-bbc0-917a934e120d"
      },
      "execution_count": 54,
      "outputs": [
        {
          "output_type": "execute_result",
          "data": {
            "text/plain": [
              "      CRIM    ZN  INDUS  CHAS    NOX     RM   AGE     DIS  RAD    TAX  \\\n",
              "0  0.00632  18.0   2.31     0  0.538  6.575  65.2  4.0900    1  296.0   \n",
              "1  0.02731   0.0   7.07     0  0.469  6.421  78.9  4.9671    2  242.0   \n",
              "\n",
              "   PTRATIO      B  LSTAT  MEDV  \n",
              "0     15.3  396.9   4.98  24.0  \n",
              "1     17.8  396.9   9.14  21.6  "
            ],
            "text/html": [
              "\n",
              "  <div id=\"df-070742a9-fca4-4f78-a064-92927a509c84\" class=\"colab-df-container\">\n",
              "    <div>\n",
              "<style scoped>\n",
              "    .dataframe tbody tr th:only-of-type {\n",
              "        vertical-align: middle;\n",
              "    }\n",
              "\n",
              "    .dataframe tbody tr th {\n",
              "        vertical-align: top;\n",
              "    }\n",
              "\n",
              "    .dataframe thead th {\n",
              "        text-align: right;\n",
              "    }\n",
              "</style>\n",
              "<table border=\"1\" class=\"dataframe\">\n",
              "  <thead>\n",
              "    <tr style=\"text-align: right;\">\n",
              "      <th></th>\n",
              "      <th>CRIM</th>\n",
              "      <th>ZN</th>\n",
              "      <th>INDUS</th>\n",
              "      <th>CHAS</th>\n",
              "      <th>NOX</th>\n",
              "      <th>RM</th>\n",
              "      <th>AGE</th>\n",
              "      <th>DIS</th>\n",
              "      <th>RAD</th>\n",
              "      <th>TAX</th>\n",
              "      <th>PTRATIO</th>\n",
              "      <th>B</th>\n",
              "      <th>LSTAT</th>\n",
              "      <th>MEDV</th>\n",
              "    </tr>\n",
              "  </thead>\n",
              "  <tbody>\n",
              "    <tr>\n",
              "      <th>0</th>\n",
              "      <td>0.00632</td>\n",
              "      <td>18.0</td>\n",
              "      <td>2.31</td>\n",
              "      <td>0</td>\n",
              "      <td>0.538</td>\n",
              "      <td>6.575</td>\n",
              "      <td>65.2</td>\n",
              "      <td>4.0900</td>\n",
              "      <td>1</td>\n",
              "      <td>296.0</td>\n",
              "      <td>15.3</td>\n",
              "      <td>396.9</td>\n",
              "      <td>4.98</td>\n",
              "      <td>24.0</td>\n",
              "    </tr>\n",
              "    <tr>\n",
              "      <th>1</th>\n",
              "      <td>0.02731</td>\n",
              "      <td>0.0</td>\n",
              "      <td>7.07</td>\n",
              "      <td>0</td>\n",
              "      <td>0.469</td>\n",
              "      <td>6.421</td>\n",
              "      <td>78.9</td>\n",
              "      <td>4.9671</td>\n",
              "      <td>2</td>\n",
              "      <td>242.0</td>\n",
              "      <td>17.8</td>\n",
              "      <td>396.9</td>\n",
              "      <td>9.14</td>\n",
              "      <td>21.6</td>\n",
              "    </tr>\n",
              "  </tbody>\n",
              "</table>\n",
              "</div>\n",
              "    <div class=\"colab-df-buttons\">\n",
              "\n",
              "  <div class=\"colab-df-container\">\n",
              "    <button class=\"colab-df-convert\" onclick=\"convertToInteractive('df-070742a9-fca4-4f78-a064-92927a509c84')\"\n",
              "            title=\"Convert this dataframe to an interactive table.\"\n",
              "            style=\"display:none;\">\n",
              "\n",
              "  <svg xmlns=\"http://www.w3.org/2000/svg\" height=\"24px\" viewBox=\"0 -960 960 960\">\n",
              "    <path d=\"M120-120v-720h720v720H120Zm60-500h600v-160H180v160Zm220 220h160v-160H400v160Zm0 220h160v-160H400v160ZM180-400h160v-160H180v160Zm440 0h160v-160H620v160ZM180-180h160v-160H180v160Zm440 0h160v-160H620v160Z\"/>\n",
              "  </svg>\n",
              "    </button>\n",
              "\n",
              "  <style>\n",
              "    .colab-df-container {\n",
              "      display:flex;\n",
              "      gap: 12px;\n",
              "    }\n",
              "\n",
              "    .colab-df-convert {\n",
              "      background-color: #E8F0FE;\n",
              "      border: none;\n",
              "      border-radius: 50%;\n",
              "      cursor: pointer;\n",
              "      display: none;\n",
              "      fill: #1967D2;\n",
              "      height: 32px;\n",
              "      padding: 0 0 0 0;\n",
              "      width: 32px;\n",
              "    }\n",
              "\n",
              "    .colab-df-convert:hover {\n",
              "      background-color: #E2EBFA;\n",
              "      box-shadow: 0px 1px 2px rgba(60, 64, 67, 0.3), 0px 1px 3px 1px rgba(60, 64, 67, 0.15);\n",
              "      fill: #174EA6;\n",
              "    }\n",
              "\n",
              "    .colab-df-buttons div {\n",
              "      margin-bottom: 4px;\n",
              "    }\n",
              "\n",
              "    [theme=dark] .colab-df-convert {\n",
              "      background-color: #3B4455;\n",
              "      fill: #D2E3FC;\n",
              "    }\n",
              "\n",
              "    [theme=dark] .colab-df-convert:hover {\n",
              "      background-color: #434B5C;\n",
              "      box-shadow: 0px 1px 3px 1px rgba(0, 0, 0, 0.15);\n",
              "      filter: drop-shadow(0px 1px 2px rgba(0, 0, 0, 0.3));\n",
              "      fill: #FFFFFF;\n",
              "    }\n",
              "  </style>\n",
              "\n",
              "    <script>\n",
              "      const buttonEl =\n",
              "        document.querySelector('#df-070742a9-fca4-4f78-a064-92927a509c84 button.colab-df-convert');\n",
              "      buttonEl.style.display =\n",
              "        google.colab.kernel.accessAllowed ? 'block' : 'none';\n",
              "\n",
              "      async function convertToInteractive(key) {\n",
              "        const element = document.querySelector('#df-070742a9-fca4-4f78-a064-92927a509c84');\n",
              "        const dataTable =\n",
              "          await google.colab.kernel.invokeFunction('convertToInteractive',\n",
              "                                                    [key], {});\n",
              "        if (!dataTable) return;\n",
              "\n",
              "        const docLinkHtml = 'Like what you see? Visit the ' +\n",
              "          '<a target=\"_blank\" href=https://colab.research.google.com/notebooks/data_table.ipynb>data table notebook</a>'\n",
              "          + ' to learn more about interactive tables.';\n",
              "        element.innerHTML = '';\n",
              "        dataTable['output_type'] = 'display_data';\n",
              "        await google.colab.output.renderOutput(dataTable, element);\n",
              "        const docLink = document.createElement('div');\n",
              "        docLink.innerHTML = docLinkHtml;\n",
              "        element.appendChild(docLink);\n",
              "      }\n",
              "    </script>\n",
              "  </div>\n",
              "\n",
              "\n",
              "<div id=\"df-b9052aa2-9930-4c8b-ad2b-f8f745e9873e\">\n",
              "  <button class=\"colab-df-quickchart\" onclick=\"quickchart('df-b9052aa2-9930-4c8b-ad2b-f8f745e9873e')\"\n",
              "            title=\"Suggest charts\"\n",
              "            style=\"display:none;\">\n",
              "\n",
              "<svg xmlns=\"http://www.w3.org/2000/svg\" height=\"24px\"viewBox=\"0 0 24 24\"\n",
              "     width=\"24px\">\n",
              "    <g>\n",
              "        <path d=\"M19 3H5c-1.1 0-2 .9-2 2v14c0 1.1.9 2 2 2h14c1.1 0 2-.9 2-2V5c0-1.1-.9-2-2-2zM9 17H7v-7h2v7zm4 0h-2V7h2v10zm4 0h-2v-4h2v4z\"/>\n",
              "    </g>\n",
              "</svg>\n",
              "  </button>\n",
              "\n",
              "<style>\n",
              "  .colab-df-quickchart {\n",
              "      --bg-color: #E8F0FE;\n",
              "      --fill-color: #1967D2;\n",
              "      --hover-bg-color: #E2EBFA;\n",
              "      --hover-fill-color: #174EA6;\n",
              "      --disabled-fill-color: #AAA;\n",
              "      --disabled-bg-color: #DDD;\n",
              "  }\n",
              "\n",
              "  [theme=dark] .colab-df-quickchart {\n",
              "      --bg-color: #3B4455;\n",
              "      --fill-color: #D2E3FC;\n",
              "      --hover-bg-color: #434B5C;\n",
              "      --hover-fill-color: #FFFFFF;\n",
              "      --disabled-bg-color: #3B4455;\n",
              "      --disabled-fill-color: #666;\n",
              "  }\n",
              "\n",
              "  .colab-df-quickchart {\n",
              "    background-color: var(--bg-color);\n",
              "    border: none;\n",
              "    border-radius: 50%;\n",
              "    cursor: pointer;\n",
              "    display: none;\n",
              "    fill: var(--fill-color);\n",
              "    height: 32px;\n",
              "    padding: 0;\n",
              "    width: 32px;\n",
              "  }\n",
              "\n",
              "  .colab-df-quickchart:hover {\n",
              "    background-color: var(--hover-bg-color);\n",
              "    box-shadow: 0 1px 2px rgba(60, 64, 67, 0.3), 0 1px 3px 1px rgba(60, 64, 67, 0.15);\n",
              "    fill: var(--button-hover-fill-color);\n",
              "  }\n",
              "\n",
              "  .colab-df-quickchart-complete:disabled,\n",
              "  .colab-df-quickchart-complete:disabled:hover {\n",
              "    background-color: var(--disabled-bg-color);\n",
              "    fill: var(--disabled-fill-color);\n",
              "    box-shadow: none;\n",
              "  }\n",
              "\n",
              "  .colab-df-spinner {\n",
              "    border: 2px solid var(--fill-color);\n",
              "    border-color: transparent;\n",
              "    border-bottom-color: var(--fill-color);\n",
              "    animation:\n",
              "      spin 1s steps(1) infinite;\n",
              "  }\n",
              "\n",
              "  @keyframes spin {\n",
              "    0% {\n",
              "      border-color: transparent;\n",
              "      border-bottom-color: var(--fill-color);\n",
              "      border-left-color: var(--fill-color);\n",
              "    }\n",
              "    20% {\n",
              "      border-color: transparent;\n",
              "      border-left-color: var(--fill-color);\n",
              "      border-top-color: var(--fill-color);\n",
              "    }\n",
              "    30% {\n",
              "      border-color: transparent;\n",
              "      border-left-color: var(--fill-color);\n",
              "      border-top-color: var(--fill-color);\n",
              "      border-right-color: var(--fill-color);\n",
              "    }\n",
              "    40% {\n",
              "      border-color: transparent;\n",
              "      border-right-color: var(--fill-color);\n",
              "      border-top-color: var(--fill-color);\n",
              "    }\n",
              "    60% {\n",
              "      border-color: transparent;\n",
              "      border-right-color: var(--fill-color);\n",
              "    }\n",
              "    80% {\n",
              "      border-color: transparent;\n",
              "      border-right-color: var(--fill-color);\n",
              "      border-bottom-color: var(--fill-color);\n",
              "    }\n",
              "    90% {\n",
              "      border-color: transparent;\n",
              "      border-bottom-color: var(--fill-color);\n",
              "    }\n",
              "  }\n",
              "</style>\n",
              "\n",
              "  <script>\n",
              "    async function quickchart(key) {\n",
              "      const quickchartButtonEl =\n",
              "        document.querySelector('#' + key + ' button');\n",
              "      quickchartButtonEl.disabled = true;  // To prevent multiple clicks.\n",
              "      quickchartButtonEl.classList.add('colab-df-spinner');\n",
              "      try {\n",
              "        const charts = await google.colab.kernel.invokeFunction(\n",
              "            'suggestCharts', [key], {});\n",
              "      } catch (error) {\n",
              "        console.error('Error during call to suggestCharts:', error);\n",
              "      }\n",
              "      quickchartButtonEl.classList.remove('colab-df-spinner');\n",
              "      quickchartButtonEl.classList.add('colab-df-quickchart-complete');\n",
              "    }\n",
              "    (() => {\n",
              "      let quickchartButtonEl =\n",
              "        document.querySelector('#df-b9052aa2-9930-4c8b-ad2b-f8f745e9873e button');\n",
              "      quickchartButtonEl.style.display =\n",
              "        google.colab.kernel.accessAllowed ? 'block' : 'none';\n",
              "    })();\n",
              "  </script>\n",
              "</div>\n",
              "    </div>\n",
              "  </div>\n"
            ]
          },
          "metadata": {},
          "execution_count": 54
        }
      ]
    },
    {
      "cell_type": "markdown",
      "source": [
        "Lo primero que hemos hecho ha sido cargar todos los datos del dataframe `housing data.csv` en la variable viviendas y asignar los nombres de las columnas del mismo."
      ],
      "metadata": {
        "id": "TRwIXbLixLHR"
      }
    },
    {
      "cell_type": "markdown",
      "source": [
        "EX01 Crea almenys dos models de regressió diferents per intentar predir el millor possible el preu de les vivendes (MEDV) de l'arxiu adjunt."
      ],
      "metadata": {
        "id": "KkpKwb8QOxLZ"
      }
    },
    {
      "cell_type": "code",
      "source": [
        "import numpy as np\n",
        "from sklearn.linear_model import LinearRegression"
      ],
      "metadata": {
        "id": "DSf_qEgZOtFo"
      },
      "execution_count": 55,
      "outputs": []
    },
    {
      "cell_type": "markdown",
      "source": [
        "Utilizaremos dos tipos de regresión lineal múltiple, una de primer grado: modelo 1 (model) y otra polinómica de segundo grado: modelo 2 (model2)."
      ],
      "metadata": {
        "id": "guNYSzswxoqU"
      }
    },
    {
      "cell_type": "markdown",
      "source": [
        "# Modelo 1"
      ],
      "metadata": {
        "id": "axhyxaBhkgZI"
      }
    },
    {
      "cell_type": "markdown",
      "source": [
        "En el primer modelo todas las variables del dataframe actúan como variables independientes (x) excepto MEDV, que actúa como variable dependiente (y)."
      ],
      "metadata": {
        "id": "D8EhdvB7dTjP"
      }
    },
    {
      "cell_type": "code",
      "source": [
        "x = np.array(viviendas[columnas].drop('MEDV', axis = 1))\n",
        "y = np.array(viviendas.MEDV)\n",
        "\n",
        "print(x.shape)\n",
        "y.shape"
      ],
      "metadata": {
        "colab": {
          "base_uri": "https://localhost:8080/"
        },
        "id": "Wk1IVwKFSjML",
        "outputId": "2b1a7793-d9f9-4af6-e796-e814048a8b5f"
      },
      "execution_count": 56,
      "outputs": [
        {
          "output_type": "stream",
          "name": "stdout",
          "text": [
            "(506, 13)\n"
          ]
        },
        {
          "output_type": "execute_result",
          "data": {
            "text/plain": [
              "(506,)"
            ]
          },
          "metadata": {},
          "execution_count": 56
        }
      ]
    },
    {
      "cell_type": "markdown",
      "source": [
        "Cargamos los datos para x e y, convirtiéndolos desde un dataframe (formato original) a dos arrays numpy, tal y como requiere el modelo. X es multidimensional (con 506 filas y 13 columnas), mientras y es unidimensional (con 506 filas)."
      ],
      "metadata": {
        "id": "TKSjhBEGcfCV"
      }
    },
    {
      "cell_type": "code",
      "source": [
        "model = LinearRegression().fit(x, y)"
      ],
      "metadata": {
        "id": "DEX3BHNDc1QA"
      },
      "execution_count": 57,
      "outputs": []
    },
    {
      "cell_type": "markdown",
      "source": [
        "Ajustamos el modelo a los datos de x e y."
      ],
      "metadata": {
        "id": "9K-KoDGNfIrn"
      }
    },
    {
      "cell_type": "code",
      "source": [
        "print(f\"intercept: {model.intercept_}\")\n",
        "print(f\"coefficients: {model.coef_}\")"
      ],
      "metadata": {
        "colab": {
          "base_uri": "https://localhost:8080/"
        },
        "id": "c8_oGViSfATs",
        "outputId": "a91ea70e-47c9-437c-c0b4-e5f596d81868"
      },
      "execution_count": 58,
      "outputs": [
        {
          "output_type": "stream",
          "name": "stdout",
          "text": [
            "intercept: 36.459488385089955\n",
            "coefficients: [-1.08011358e-01  4.64204584e-02  2.05586264e-02  2.68673382e+00\n",
            " -1.77666112e+01  3.80986521e+00  6.92224640e-04 -1.47556685e+00\n",
            "  3.06049479e-01 -1.23345939e-02 -9.52747232e-01  9.31168327e-03\n",
            " -5.24758378e-01]\n"
          ]
        }
      ]
    },
    {
      "cell_type": "markdown",
      "source": [
        "Obtenemos el punto de intersección y los coeficientes, que correponden a la estructura: y = b0 + b1·x1 + b2·x2 + ...+ b13·x13. En este caso: y = 36.459 - 0.108·CRIM + 0.046·ZN + ... - 0.52·LSTAT"
      ],
      "metadata": {
        "id": "hCIiItDMh57y"
      }
    },
    {
      "cell_type": "markdown",
      "source": [
        "# Modelo 2"
      ],
      "metadata": {
        "id": "zSyF7UVCkrHP"
      }
    },
    {
      "cell_type": "markdown",
      "source": [
        "El segundo modelo es una regresión múltiple polinomial de grado 2."
      ],
      "metadata": {
        "id": "Ouee6IUzoQJf"
      }
    },
    {
      "cell_type": "code",
      "source": [
        "from sklearn.preprocessing import PolynomialFeatures"
      ],
      "metadata": {
        "id": "Yw2U8209ndan"
      },
      "execution_count": 59,
      "outputs": []
    },
    {
      "cell_type": "code",
      "source": [
        "x_ = PolynomialFeatures(degree=2, include_bias=False).fit_transform(x)\n",
        "x_"
      ],
      "metadata": {
        "id": "JldLm4uCpHIG",
        "colab": {
          "base_uri": "https://localhost:8080/"
        },
        "outputId": "8a0cfc7c-674c-488d-a0ec-ef4d315e0c5b"
      },
      "execution_count": 60,
      "outputs": [
        {
          "output_type": "execute_result",
          "data": {
            "text/plain": [
              "array([[6.32000000e-03, 1.80000000e+01, 2.31000000e+00, ...,\n",
              "        1.57529610e+05, 1.97656200e+03, 2.48004000e+01],\n",
              "       [2.73100000e-02, 0.00000000e+00, 7.07000000e+00, ...,\n",
              "        1.57529610e+05, 3.62766600e+03, 8.35396000e+01],\n",
              "       [2.72900000e-02, 0.00000000e+00, 7.07000000e+00, ...,\n",
              "        1.54315409e+05, 1.58310490e+03, 1.62409000e+01],\n",
              "       ...,\n",
              "       [6.07600000e-02, 0.00000000e+00, 1.19300000e+01, ...,\n",
              "        1.57529610e+05, 2.23851600e+03, 3.18096000e+01],\n",
              "       [1.09590000e-01, 0.00000000e+00, 1.19300000e+01, ...,\n",
              "        1.54802902e+05, 2.54955600e+03, 4.19904000e+01],\n",
              "       [4.74100000e-02, 0.00000000e+00, 1.19300000e+01, ...,\n",
              "        1.57529610e+05, 3.12757200e+03, 6.20944000e+01]])"
            ]
          },
          "metadata": {},
          "execution_count": 60
        }
      ]
    },
    {
      "cell_type": "markdown",
      "source": [
        "Transformamos la variable x para incluir los valores de x al cuadrado, y sin incluir el término de sesgo (include_bias=False), ya que por defecto ya lo aplica a regresión lineal que ajustamos a continuación."
      ],
      "metadata": {
        "id": "cfDP62nbqPJw"
      }
    },
    {
      "cell_type": "code",
      "source": [
        "model2 = LinearRegression().fit(x_, y)"
      ],
      "metadata": {
        "id": "MfZfqzz6qfq7"
      },
      "execution_count": 61,
      "outputs": []
    },
    {
      "cell_type": "markdown",
      "source": [
        "Ajustamos el modelo ..."
      ],
      "metadata": {
        "id": "EHq0K75Fqy79"
      }
    },
    {
      "cell_type": "code",
      "source": [
        "print(f\"intercept: {model.intercept_}\")\n",
        "print(f\"coefficients: {model.coef_}\")"
      ],
      "metadata": {
        "colab": {
          "base_uri": "https://localhost:8080/"
        },
        "id": "4TPTXJJhqzh1",
        "outputId": "a4a4b26f-7d78-43cf-f045-d4055dc42f2e"
      },
      "execution_count": 62,
      "outputs": [
        {
          "output_type": "stream",
          "name": "stdout",
          "text": [
            "intercept: 36.459488385089955\n",
            "coefficients: [-1.08011358e-01  4.64204584e-02  2.05586264e-02  2.68673382e+00\n",
            " -1.77666112e+01  3.80986521e+00  6.92224640e-04 -1.47556685e+00\n",
            "  3.06049479e-01 -1.23345939e-02 -9.52747232e-01  9.31168327e-03\n",
            " -5.24758378e-01]\n"
          ]
        }
      ]
    },
    {
      "cell_type": "markdown",
      "source": [
        "... y de manera similar al modelo de grado 1, obtenemos los valores de intersección y coeficientes."
      ],
      "metadata": {
        "id": "pUUx3ppwy4Wo"
      }
    },
    {
      "cell_type": "markdown",
      "source": [
        "EX02 Compara’ls en base al MSE i al R2."
      ],
      "metadata": {
        "id": "dbPOqZYY0hoO"
      }
    },
    {
      "cell_type": "markdown",
      "source": [
        "R2 en el primer modelo y segundo modelo, respectivamente:\n",
        "\n"
      ],
      "metadata": {
        "id": "7nlEKybT0NjF"
      }
    },
    {
      "cell_type": "code",
      "source": [
        "print(model.score(x, y))\n",
        "model2.score(x_, y)"
      ],
      "metadata": {
        "id": "xcYIuEVa0k1m",
        "colab": {
          "base_uri": "https://localhost:8080/"
        },
        "outputId": "37a9034e-1911-4141-f8a5-5a8e049f3de1"
      },
      "execution_count": 63,
      "outputs": [
        {
          "output_type": "stream",
          "name": "stdout",
          "text": [
            "0.7406426641094095\n"
          ]
        },
        {
          "output_type": "execute_result",
          "data": {
            "text/plain": [
              "0.9289961714593018"
            ]
          },
          "metadata": {},
          "execution_count": 63
        }
      ]
    },
    {
      "cell_type": "markdown",
      "source": [
        "Una R2 más próxima a 1 se interpreta en general como una mejor aproximación, lo cual haría al segundo modelo (polinomial) mejor que el primero en la previsión del precio de la vivienda. Por otro lado hay que tener en cuenta que también se corre el riesgo de sobreajuste del modelo a los datos, lo que podría llegar a suceder en el segundo caso con un valor de R2 de 0.92, pero esto lo comprobaremos en el ejercicio 4 con los datos de prueba que separamos (test)."
      ],
      "metadata": {
        "id": "jxvhPx-N8gSu"
      }
    },
    {
      "cell_type": "markdown",
      "source": [
        "MSE en el primer y segundo modelos respectivamente:"
      ],
      "metadata": {
        "id": "Q9ZFikp00__2"
      }
    },
    {
      "cell_type": "code",
      "source": [
        "from sklearn.metrics import mean_squared_error\n",
        "import math\n",
        "\n",
        "y_ = model.predict(x)\n",
        "y_2 = model2.predict(x_)\n",
        "\n",
        "print(mean_squared_error(y, y_))\n",
        "print(mean_squared_error(y, y_2))"
      ],
      "metadata": {
        "colab": {
          "base_uri": "https://localhost:8080/"
        },
        "id": "KHkuac-z1Zmx",
        "outputId": "27cdbdce-ec81-41db-df47-9e2c97020e30"
      },
      "execution_count": 64,
      "outputs": [
        {
          "output_type": "stream",
          "name": "stdout",
          "text": [
            "21.894831181729202\n",
            "5.994111690794227\n"
          ]
        }
      ]
    },
    {
      "cell_type": "markdown",
      "source": [
        "Que el MSE sea de 22 significa que en promedio el modelo se equivoca en 4.69 miles de dólares (raíz de 22) en la previsión del precio de la vivienda en base a los valores de las variables.  \n",
        "En este caso vemos como el error es significativamente mayor que el que se comete con un modelo cuadrático, de 2.44 miles de dólares (raíz de 6).\n",
        "Es decir, 4.690 frente a 2.440 dólares de error en promedio. Mejor el modelo de grado 2 también según este segundo parámetro de medida del rendimiento."
      ],
      "metadata": {
        "id": "PfI-d_JP6d60"
      }
    },
    {
      "cell_type": "markdown",
      "source": [
        "EX03 Entrena’ls utilitzant els diferents paràmetres que admeten per intentar millorar-ne la predicció."
      ],
      "metadata": {
        "id": "AAX0qcBl0TrP"
      }
    },
    {
      "cell_type": "markdown",
      "source": [
        "Utilizaremos el segundo modelo anterior, cuadrático, que era el que obtenía un mayor rendimiento, para entrenar y luego comprobar el sobreajuste o no a los datos mediante los datos de prueba (test)."
      ],
      "metadata": {
        "id": "-tqz0s79ADQt"
      }
    },
    {
      "cell_type": "code",
      "source": [
        "from sklearn.model_selection import train_test_split"
      ],
      "metadata": {
        "id": "U-GOEIRJ0ugD"
      },
      "execution_count": 65,
      "outputs": []
    },
    {
      "cell_type": "code",
      "source": [
        "x_train, x_test, y_train, y_test = train_test_split(x_, y, test_size=0.33, random_state=4)"
      ],
      "metadata": {
        "id": "kewKSKNyGa-A"
      },
      "execution_count": 66,
      "outputs": []
    },
    {
      "cell_type": "markdown",
      "source": [
        "En primer lugar dividimos los datos en train y test."
      ],
      "metadata": {
        "id": "xiL2zpIvz4mM"
      }
    },
    {
      "cell_type": "code",
      "source": [
        "from sklearn.preprocessing import StandardScaler\n",
        "from sklearn.pipeline import make_pipeline"
      ],
      "metadata": {
        "id": "5_8crCXSyN3w"
      },
      "execution_count": 67,
      "outputs": []
    },
    {
      "cell_type": "code",
      "source": [
        "model3 = LinearRegression(fit_intercept=True).fit(x_train, y_train)"
      ],
      "metadata": {
        "id": "NDbjlHgN0rvX"
      },
      "execution_count": 68,
      "outputs": []
    },
    {
      "cell_type": "markdown",
      "source": [
        "... ajustamos la regresión a x_train e y_train, utilizando el único parámetro de ajuste de los datos que pueden mejorar el rendimiento que actualmente existe en sklearn como parámetro."
      ],
      "metadata": {
        "id": "nvy19MDd2rGJ"
      }
    },
    {
      "cell_type": "markdown",
      "source": [
        "EX04. Compara el seu rendiment emprant l’aproximació train/test o emprant totes les dades (validació interna)."
      ],
      "metadata": {
        "id": "QB-pp4vH0zBW"
      }
    },
    {
      "cell_type": "code",
      "source": [
        "print(model3.score(x_train, y_train))\n",
        "print(model3.score(x_test, y_test))\n",
        "print(model3.score(x_, y))"
      ],
      "metadata": {
        "id": "rO9rwVx402tz",
        "colab": {
          "base_uri": "https://localhost:8080/"
        },
        "outputId": "c9f96604-e275-4236-a5f5-818ba15ee7f4"
      },
      "execution_count": 69,
      "outputs": [
        {
          "output_type": "stream",
          "name": "stdout",
          "text": [
            "0.9214334838639593\n",
            "0.8768105408310134\n",
            "0.9026649916983766\n"
          ]
        }
      ]
    },
    {
      "cell_type": "markdown",
      "source": [
        "Aquí vemos la comparativa bajo el modelo polinómico de grado 2 (model2) del rendimiento (R2) bajo entrenamiento: 0.92 - test: 0.87, y con todos los datos: 0.90. Esto muestra cuán aproximadas son las observaciones reales de las observaciones estimadas en base al modelo. Tiene cierto sentido que la R2 sea mayor con train, pues la regresión se ha hecho basándose en esos datos. Un poco inferior en test, pero todavía suficientemente alta, y algo mayor trabajando con todos los datos, al haber un número mayor de observaciones, pero menor que con train."
      ],
      "metadata": {
        "id": "8p2aSH_mcdbX"
      }
    },
    {
      "cell_type": "markdown",
      "source": [
        "EX05 No facis servir la variable del nombre d'habitacions (RM) a l’hora de fer prediccions."
      ],
      "metadata": {
        "id": "0AQF2Teu06p2"
      }
    },
    {
      "cell_type": "markdown",
      "source": [
        "# Con el modelo lineal"
      ],
      "metadata": {
        "id": "wWmHc922otaT"
      }
    },
    {
      "cell_type": "code",
      "source": [
        "x = np.array(viviendas[columnas].drop(['RM', 'MEDV'], axis = 1))"
      ],
      "metadata": {
        "id": "BPaVNeck1PFN"
      },
      "execution_count": 70,
      "outputs": []
    },
    {
      "cell_type": "markdown",
      "source": [
        "Lo primero que hacemos es excluir de x los valores de la columna RM."
      ],
      "metadata": {
        "id": "TcOXnCGlsIH-"
      }
    },
    {
      "cell_type": "code",
      "source": [
        "x_train, x_test, y_train, y_test = train_test_split(x, y, test_size=0.33, random_state=4)"
      ],
      "metadata": {
        "id": "Zl1vt-aPa3vD"
      },
      "execution_count": 71,
      "outputs": []
    },
    {
      "cell_type": "markdown",
      "source": [
        "Partimos los datos con una proporción de 0.33 para test y 0.67 para train."
      ],
      "metadata": {
        "id": "xBozrGENsxUU"
      }
    },
    {
      "cell_type": "code",
      "source": [
        "model4 = LinearRegression().fit(x_train, y_train)"
      ],
      "metadata": {
        "id": "f45as2sycEkP"
      },
      "execution_count": 72,
      "outputs": []
    },
    {
      "cell_type": "markdown",
      "source": [
        "Ajustamos el modelo lineal con los nuevos datos de entrenamiento de x."
      ],
      "metadata": {
        "id": "pumOQd54s9kF"
      }
    },
    {
      "cell_type": "code",
      "source": [
        "print(model4.score(x_train, y_train))\n",
        "print(model4.score(x_test, y_test))\n",
        "print(model4.score(x, y))"
      ],
      "metadata": {
        "colab": {
          "base_uri": "https://localhost:8080/"
        },
        "id": "75Xc3nGta6vr",
        "outputId": "dfc8d745-aa42-4e4e-a028-155c4b1ef15f"
      },
      "execution_count": 73,
      "outputs": [
        {
          "output_type": "stream",
          "name": "stdout",
          "text": [
            "0.7075550118615358\n",
            "0.6530652633478382\n",
            "0.6862260885468371\n"
          ]
        }
      ]
    },
    {
      "cell_type": "markdown",
      "source": [
        "Finalmente obtenemos el rendimiento para train, test y con todos los valores respectivamente del modelo lineal con los nuevos valores de x (excluyendo RM).  \n",
        "Vemos como el rendimiento es claramente inferior a la versión anterior, lo cuál nos hace pensar que RM tiene un alto valor explicativo en el precio de la vivienda de Boston."
      ],
      "metadata": {
        "id": "NeC95JpTtGZw"
      }
    },
    {
      "cell_type": "markdown",
      "source": [
        "# Con el modelo cuadrático"
      ],
      "metadata": {
        "id": "OxzDcFzeo3JP"
      }
    },
    {
      "cell_type": "markdown",
      "source": [
        "Repetimos el mismo procedimiento, pero ahora con el modelo cuadrático (polinomial o lineal de grado 2), que anteriormente nos había dado un mejor ajuste."
      ],
      "metadata": {
        "id": "WnkIZKogt43L"
      }
    },
    {
      "cell_type": "code",
      "source": [
        "x_ = PolynomialFeatures(degree=2, include_bias=False).fit_transform(x)"
      ],
      "metadata": {
        "id": "GDfre0mKo6m4"
      },
      "execution_count": 74,
      "outputs": []
    },
    {
      "cell_type": "code",
      "source": [
        "x_train, x_test, y_train, y_test = train_test_split(x_, y, test_size=0.33, random_state=4)"
      ],
      "metadata": {
        "id": "DXIryHvPqjJa"
      },
      "execution_count": 75,
      "outputs": []
    },
    {
      "cell_type": "code",
      "source": [
        "model5 = LinearRegression().fit(x_, y)"
      ],
      "metadata": {
        "id": "fy2GvYDlpg03"
      },
      "execution_count": 76,
      "outputs": []
    },
    {
      "cell_type": "code",
      "source": [
        "print(model5.score(x_train, y_train))\n",
        "print(model5.score(x_test, y_test))\n",
        "print(model5.score(x_, y))"
      ],
      "metadata": {
        "colab": {
          "base_uri": "https://localhost:8080/"
        },
        "id": "QlgpjOU3pxaL",
        "outputId": "41112854-683b-4c06-b43a-77c1e5d2227d"
      },
      "execution_count": 77,
      "outputs": [
        {
          "output_type": "stream",
          "name": "stdout",
          "text": [
            "0.834947721069482\n",
            "0.8840599614432167\n",
            "0.8576390234166235\n"
          ]
        }
      ]
    },
    {
      "cell_type": "markdown",
      "source": [
        "Con el modelo polinomial los resultados que obtenemos son mejores, como sucedía anteriormente, pero inferiores de nuevo a lo que obteníamos incluyendo la variable 'RM'."
      ],
      "metadata": {
        "id": "VI3E1r_vuHUv"
      }
    },
    {
      "cell_type": "markdown",
      "source": [
        "Conclusiones:\n",
        "\n",
        "1. La variable 'RM' tiene un cierto valor explicativo sobre el valor de la vivienda, pero no es la única, en tanto seguimos obteniendo rendimientos de entorno al 85% aún excluyéndola, utilizando el resto de variables.\n",
        "\n",
        "2. El modelo cuadrático ajusta mejor los datos que el modelo lineal de grado uno.\n",
        "\n",
        "Finalmente, es posible predecir con bastante exactitud el precio de la vivienda utilizando todas las variables disponibles, incluso excluyendo una de las que puede tener mayor correlación como es el número de habitaciones ('RM').\n"
      ],
      "metadata": {
        "id": "rAG0H9t7ughQ"
      }
    }
  ]
}