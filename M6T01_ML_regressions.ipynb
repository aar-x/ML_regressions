{
  "nbformat": 4,
  "nbformat_minor": 0,
  "metadata": {
    "colab": {
      "provenance": []
    },
    "kernelspec": {
      "name": "python3",
      "display_name": "Python 3"
    },
    "language_info": {
      "name": "python"
    }
  },
  "cells": [
    {
      "cell_type": "markdown",
      "source": [
        "# Exercicis per practicar amb regressions."
      ],
      "metadata": {
        "id": "UPwrlkc80Unk"
      }
    },
    {
      "cell_type": "code",
      "execution_count": 1,
      "metadata": {
        "id": "YOekKTyZmI90"
      },
      "outputs": [],
      "source": [
        "import pandas as pd"
      ]
    },
    {
      "cell_type": "code",
      "source": [
        "print(open('housing data description.txt').read())"
      ],
      "metadata": {
        "id": "-61zHEsbNsB4",
        "colab": {
          "base_uri": "https://localhost:8080/"
        },
        "outputId": "ec278a67-6a48-459b-f191-9d3ab61e371f"
      },
      "execution_count": 2,
      "outputs": [
        {
          "output_type": "stream",
          "name": "stdout",
          "text": [
            "1. Title: Boston Housing Data\n",
            "\n",
            "2. Sources:\n",
            "   (a) Origin:  This dataset was taken from the StatLib library which is\n",
            "                maintained at Carnegie Mellon University.\n",
            "   (b) Creator:  Harrison, D. and Rubinfeld, D.L. 'Hedonic prices and the \n",
            "                 demand for clean air', J. Environ. Economics & Management,\n",
            "                 vol.5, 81-102, 1978.\n",
            "   (c) Date: July 7, 1993\n",
            "\n",
            "3. Past Usage:\n",
            "   -   Used in Belsley, Kuh & Welsch, 'Regression diagnostics ...', Wiley, \n",
            "       1980.   N.B. Various transformations are used in the table on\n",
            "       pages 244-261.\n",
            "    -  Quinlan,R. (1993). Combining Instance-Based and Model-Based Learning.\n",
            "       In Proceedings on the Tenth International Conference of Machine \n",
            "       Learning, 236-243, University of Massachusetts, Amherst. Morgan\n",
            "       Kaufmann.\n",
            "\n",
            "4. Relevant Information:\n",
            "\n",
            "   Concerns housing values in suburbs of Boston.\n",
            "\n",
            "5. Number of Instances: 506\n",
            "\n",
            "6. Number of Attributes: 13 continuous attributes (including \"class\"\n",
            "                         attribute \"MEDV\"), 1 binary-valued attribute.\n",
            "\n",
            "7. Attribute Information:\n",
            "\n",
            "    1. CRIM      per capita crime rate by town\n",
            "    2. ZN        proportion of residential land zoned for lots over \n",
            "                 25,000 sq.ft.\n",
            "    3. INDUS     proportion of non-retail business acres per town\n",
            "    4. CHAS      Charles River dummy variable (= 1 if tract bounds \n",
            "                 river; 0 otherwise)\n",
            "    5. NOX       nitric oxides concentration (parts per 10 million)\n",
            "    6. RM        average number of rooms per dwelling\n",
            "    7. AGE       proportion of owner-occupied units built prior to 1940\n",
            "    8. DIS       weighted distances to five Boston employment centres\n",
            "    9. RAD       index of accessibility to radial highways\n",
            "    10. TAX      full-value property-tax rate per $10,000\n",
            "    11. PTRATIO  pupil-teacher ratio by town\n",
            "    12. B        1000(Bk - 0.63)^2 where Bk is the proportion of blacks \n",
            "                 by town\n",
            "    13. LSTAT    % lower status of the population\n",
            "    14. MEDV     Median value of owner-occupied homes in $1000's\n",
            "\n",
            "8. Missing Attribute Values:  None.\n",
            "\n",
            "\n",
            "\n",
            "\n"
          ]
        }
      ]
    },
    {
      "cell_type": "markdown",
      "source": [
        "Arriba tenemos una descripción teórica de los datos. Estudiamos diversas variables que afectan al precio de las viviendas en los suburbios de Boston en los años 70. `MEDV` es la variable dependiente que refleja los precios, mientras el resto de características tales como la tasa de crímenes, si está junto al río o no, el nivel de accesibilidad a las autopistas, % de población de clase baja, distancia a los centros de empleo de Boston, precio mediano de las viviendas ... las trataremos como variables independientes."
      ],
      "metadata": {
        "id": "4-oPchIrcjUF"
      }
    },
    {
      "cell_type": "code",
      "source": [
        "columnas = ['CRIM', 'ZN', 'INDUS', 'CHAS', 'NOX', 'RM', 'AGE', 'DIS', 'RAD', 'TAX', 'PTRATIO', 'B', 'LSTAT', 'MEDV']\n",
        "viviendas = pd.read_csv('housing data.csv', sep=',', names=columnas)\n",
        "viviendas.head(2)"
      ],
      "metadata": {
        "id": "bBW8w1d2NxVk",
        "colab": {
          "base_uri": "https://localhost:8080/",
          "height": 112
        },
        "outputId": "a1bf5c27-95e7-4160-c1b5-3f89b2abe6ef"
      },
      "execution_count": 3,
      "outputs": [
        {
          "output_type": "execute_result",
          "data": {
            "text/plain": [
              "      CRIM    ZN  INDUS  CHAS    NOX     RM   AGE     DIS  RAD    TAX  \\\n",
              "0  0.00632  18.0   2.31     0  0.538  6.575  65.2  4.0900    1  296.0   \n",
              "1  0.02731   0.0   7.07     0  0.469  6.421  78.9  4.9671    2  242.0   \n",
              "\n",
              "   PTRATIO      B  LSTAT  MEDV  \n",
              "0     15.3  396.9   4.98  24.0  \n",
              "1     17.8  396.9   9.14  21.6  "
            ],
            "text/html": [
              "\n",
              "  <div id=\"df-5ca946d5-5b32-4a9d-8137-71a41d766033\" class=\"colab-df-container\">\n",
              "    <div>\n",
              "<style scoped>\n",
              "    .dataframe tbody tr th:only-of-type {\n",
              "        vertical-align: middle;\n",
              "    }\n",
              "\n",
              "    .dataframe tbody tr th {\n",
              "        vertical-align: top;\n",
              "    }\n",
              "\n",
              "    .dataframe thead th {\n",
              "        text-align: right;\n",
              "    }\n",
              "</style>\n",
              "<table border=\"1\" class=\"dataframe\">\n",
              "  <thead>\n",
              "    <tr style=\"text-align: right;\">\n",
              "      <th></th>\n",
              "      <th>CRIM</th>\n",
              "      <th>ZN</th>\n",
              "      <th>INDUS</th>\n",
              "      <th>CHAS</th>\n",
              "      <th>NOX</th>\n",
              "      <th>RM</th>\n",
              "      <th>AGE</th>\n",
              "      <th>DIS</th>\n",
              "      <th>RAD</th>\n",
              "      <th>TAX</th>\n",
              "      <th>PTRATIO</th>\n",
              "      <th>B</th>\n",
              "      <th>LSTAT</th>\n",
              "      <th>MEDV</th>\n",
              "    </tr>\n",
              "  </thead>\n",
              "  <tbody>\n",
              "    <tr>\n",
              "      <th>0</th>\n",
              "      <td>0.00632</td>\n",
              "      <td>18.0</td>\n",
              "      <td>2.31</td>\n",
              "      <td>0</td>\n",
              "      <td>0.538</td>\n",
              "      <td>6.575</td>\n",
              "      <td>65.2</td>\n",
              "      <td>4.0900</td>\n",
              "      <td>1</td>\n",
              "      <td>296.0</td>\n",
              "      <td>15.3</td>\n",
              "      <td>396.9</td>\n",
              "      <td>4.98</td>\n",
              "      <td>24.0</td>\n",
              "    </tr>\n",
              "    <tr>\n",
              "      <th>1</th>\n",
              "      <td>0.02731</td>\n",
              "      <td>0.0</td>\n",
              "      <td>7.07</td>\n",
              "      <td>0</td>\n",
              "      <td>0.469</td>\n",
              "      <td>6.421</td>\n",
              "      <td>78.9</td>\n",
              "      <td>4.9671</td>\n",
              "      <td>2</td>\n",
              "      <td>242.0</td>\n",
              "      <td>17.8</td>\n",
              "      <td>396.9</td>\n",
              "      <td>9.14</td>\n",
              "      <td>21.6</td>\n",
              "    </tr>\n",
              "  </tbody>\n",
              "</table>\n",
              "</div>\n",
              "    <div class=\"colab-df-buttons\">\n",
              "\n",
              "  <div class=\"colab-df-container\">\n",
              "    <button class=\"colab-df-convert\" onclick=\"convertToInteractive('df-5ca946d5-5b32-4a9d-8137-71a41d766033')\"\n",
              "            title=\"Convert this dataframe to an interactive table.\"\n",
              "            style=\"display:none;\">\n",
              "\n",
              "  <svg xmlns=\"http://www.w3.org/2000/svg\" height=\"24px\" viewBox=\"0 -960 960 960\">\n",
              "    <path d=\"M120-120v-720h720v720H120Zm60-500h600v-160H180v160Zm220 220h160v-160H400v160Zm0 220h160v-160H400v160ZM180-400h160v-160H180v160Zm440 0h160v-160H620v160ZM180-180h160v-160H180v160Zm440 0h160v-160H620v160Z\"/>\n",
              "  </svg>\n",
              "    </button>\n",
              "\n",
              "  <style>\n",
              "    .colab-df-container {\n",
              "      display:flex;\n",
              "      gap: 12px;\n",
              "    }\n",
              "\n",
              "    .colab-df-convert {\n",
              "      background-color: #E8F0FE;\n",
              "      border: none;\n",
              "      border-radius: 50%;\n",
              "      cursor: pointer;\n",
              "      display: none;\n",
              "      fill: #1967D2;\n",
              "      height: 32px;\n",
              "      padding: 0 0 0 0;\n",
              "      width: 32px;\n",
              "    }\n",
              "\n",
              "    .colab-df-convert:hover {\n",
              "      background-color: #E2EBFA;\n",
              "      box-shadow: 0px 1px 2px rgba(60, 64, 67, 0.3), 0px 1px 3px 1px rgba(60, 64, 67, 0.15);\n",
              "      fill: #174EA6;\n",
              "    }\n",
              "\n",
              "    .colab-df-buttons div {\n",
              "      margin-bottom: 4px;\n",
              "    }\n",
              "\n",
              "    [theme=dark] .colab-df-convert {\n",
              "      background-color: #3B4455;\n",
              "      fill: #D2E3FC;\n",
              "    }\n",
              "\n",
              "    [theme=dark] .colab-df-convert:hover {\n",
              "      background-color: #434B5C;\n",
              "      box-shadow: 0px 1px 3px 1px rgba(0, 0, 0, 0.15);\n",
              "      filter: drop-shadow(0px 1px 2px rgba(0, 0, 0, 0.3));\n",
              "      fill: #FFFFFF;\n",
              "    }\n",
              "  </style>\n",
              "\n",
              "    <script>\n",
              "      const buttonEl =\n",
              "        document.querySelector('#df-5ca946d5-5b32-4a9d-8137-71a41d766033 button.colab-df-convert');\n",
              "      buttonEl.style.display =\n",
              "        google.colab.kernel.accessAllowed ? 'block' : 'none';\n",
              "\n",
              "      async function convertToInteractive(key) {\n",
              "        const element = document.querySelector('#df-5ca946d5-5b32-4a9d-8137-71a41d766033');\n",
              "        const dataTable =\n",
              "          await google.colab.kernel.invokeFunction('convertToInteractive',\n",
              "                                                    [key], {});\n",
              "        if (!dataTable) return;\n",
              "\n",
              "        const docLinkHtml = 'Like what you see? Visit the ' +\n",
              "          '<a target=\"_blank\" href=https://colab.research.google.com/notebooks/data_table.ipynb>data table notebook</a>'\n",
              "          + ' to learn more about interactive tables.';\n",
              "        element.innerHTML = '';\n",
              "        dataTable['output_type'] = 'display_data';\n",
              "        await google.colab.output.renderOutput(dataTable, element);\n",
              "        const docLink = document.createElement('div');\n",
              "        docLink.innerHTML = docLinkHtml;\n",
              "        element.appendChild(docLink);\n",
              "      }\n",
              "    </script>\n",
              "  </div>\n",
              "\n",
              "\n",
              "<div id=\"df-4dc1b8d7-ba4d-4f72-840d-0129b1ffb594\">\n",
              "  <button class=\"colab-df-quickchart\" onclick=\"quickchart('df-4dc1b8d7-ba4d-4f72-840d-0129b1ffb594')\"\n",
              "            title=\"Suggest charts\"\n",
              "            style=\"display:none;\">\n",
              "\n",
              "<svg xmlns=\"http://www.w3.org/2000/svg\" height=\"24px\"viewBox=\"0 0 24 24\"\n",
              "     width=\"24px\">\n",
              "    <g>\n",
              "        <path d=\"M19 3H5c-1.1 0-2 .9-2 2v14c0 1.1.9 2 2 2h14c1.1 0 2-.9 2-2V5c0-1.1-.9-2-2-2zM9 17H7v-7h2v7zm4 0h-2V7h2v10zm4 0h-2v-4h2v4z\"/>\n",
              "    </g>\n",
              "</svg>\n",
              "  </button>\n",
              "\n",
              "<style>\n",
              "  .colab-df-quickchart {\n",
              "      --bg-color: #E8F0FE;\n",
              "      --fill-color: #1967D2;\n",
              "      --hover-bg-color: #E2EBFA;\n",
              "      --hover-fill-color: #174EA6;\n",
              "      --disabled-fill-color: #AAA;\n",
              "      --disabled-bg-color: #DDD;\n",
              "  }\n",
              "\n",
              "  [theme=dark] .colab-df-quickchart {\n",
              "      --bg-color: #3B4455;\n",
              "      --fill-color: #D2E3FC;\n",
              "      --hover-bg-color: #434B5C;\n",
              "      --hover-fill-color: #FFFFFF;\n",
              "      --disabled-bg-color: #3B4455;\n",
              "      --disabled-fill-color: #666;\n",
              "  }\n",
              "\n",
              "  .colab-df-quickchart {\n",
              "    background-color: var(--bg-color);\n",
              "    border: none;\n",
              "    border-radius: 50%;\n",
              "    cursor: pointer;\n",
              "    display: none;\n",
              "    fill: var(--fill-color);\n",
              "    height: 32px;\n",
              "    padding: 0;\n",
              "    width: 32px;\n",
              "  }\n",
              "\n",
              "  .colab-df-quickchart:hover {\n",
              "    background-color: var(--hover-bg-color);\n",
              "    box-shadow: 0 1px 2px rgba(60, 64, 67, 0.3), 0 1px 3px 1px rgba(60, 64, 67, 0.15);\n",
              "    fill: var(--button-hover-fill-color);\n",
              "  }\n",
              "\n",
              "  .colab-df-quickchart-complete:disabled,\n",
              "  .colab-df-quickchart-complete:disabled:hover {\n",
              "    background-color: var(--disabled-bg-color);\n",
              "    fill: var(--disabled-fill-color);\n",
              "    box-shadow: none;\n",
              "  }\n",
              "\n",
              "  .colab-df-spinner {\n",
              "    border: 2px solid var(--fill-color);\n",
              "    border-color: transparent;\n",
              "    border-bottom-color: var(--fill-color);\n",
              "    animation:\n",
              "      spin 1s steps(1) infinite;\n",
              "  }\n",
              "\n",
              "  @keyframes spin {\n",
              "    0% {\n",
              "      border-color: transparent;\n",
              "      border-bottom-color: var(--fill-color);\n",
              "      border-left-color: var(--fill-color);\n",
              "    }\n",
              "    20% {\n",
              "      border-color: transparent;\n",
              "      border-left-color: var(--fill-color);\n",
              "      border-top-color: var(--fill-color);\n",
              "    }\n",
              "    30% {\n",
              "      border-color: transparent;\n",
              "      border-left-color: var(--fill-color);\n",
              "      border-top-color: var(--fill-color);\n",
              "      border-right-color: var(--fill-color);\n",
              "    }\n",
              "    40% {\n",
              "      border-color: transparent;\n",
              "      border-right-color: var(--fill-color);\n",
              "      border-top-color: var(--fill-color);\n",
              "    }\n",
              "    60% {\n",
              "      border-color: transparent;\n",
              "      border-right-color: var(--fill-color);\n",
              "    }\n",
              "    80% {\n",
              "      border-color: transparent;\n",
              "      border-right-color: var(--fill-color);\n",
              "      border-bottom-color: var(--fill-color);\n",
              "    }\n",
              "    90% {\n",
              "      border-color: transparent;\n",
              "      border-bottom-color: var(--fill-color);\n",
              "    }\n",
              "  }\n",
              "</style>\n",
              "\n",
              "  <script>\n",
              "    async function quickchart(key) {\n",
              "      const quickchartButtonEl =\n",
              "        document.querySelector('#' + key + ' button');\n",
              "      quickchartButtonEl.disabled = true;  // To prevent multiple clicks.\n",
              "      quickchartButtonEl.classList.add('colab-df-spinner');\n",
              "      try {\n",
              "        const charts = await google.colab.kernel.invokeFunction(\n",
              "            'suggestCharts', [key], {});\n",
              "      } catch (error) {\n",
              "        console.error('Error during call to suggestCharts:', error);\n",
              "      }\n",
              "      quickchartButtonEl.classList.remove('colab-df-spinner');\n",
              "      quickchartButtonEl.classList.add('colab-df-quickchart-complete');\n",
              "    }\n",
              "    (() => {\n",
              "      let quickchartButtonEl =\n",
              "        document.querySelector('#df-4dc1b8d7-ba4d-4f72-840d-0129b1ffb594 button');\n",
              "      quickchartButtonEl.style.display =\n",
              "        google.colab.kernel.accessAllowed ? 'block' : 'none';\n",
              "    })();\n",
              "  </script>\n",
              "</div>\n",
              "    </div>\n",
              "  </div>\n"
            ]
          },
          "metadata": {},
          "execution_count": 3
        }
      ]
    },
    {
      "cell_type": "markdown",
      "source": [
        "Lo primero que hemos hecho ha sido cargar todos los datos del dataframe `housing data.csv` en la variable viviendas y asignar los nombres de las columnas del mismo, como podemos ver en la muestra de las dos primeras filas."
      ],
      "metadata": {
        "id": "TRwIXbLixLHR"
      }
    },
    {
      "cell_type": "markdown",
      "source": [
        "A continuación podemos ver las distintas variables que contiene la base de datos:"
      ],
      "metadata": {
        "id": "LpnIUwO0dwp9"
      }
    },
    {
      "cell_type": "code",
      "source": [
        "viviendas.info()"
      ],
      "metadata": {
        "colab": {
          "base_uri": "https://localhost:8080/"
        },
        "id": "zeNFfd5ediEo",
        "outputId": "84cb2823-d1c0-42e2-d295-f67b0391f227"
      },
      "execution_count": 4,
      "outputs": [
        {
          "output_type": "stream",
          "name": "stdout",
          "text": [
            "<class 'pandas.core.frame.DataFrame'>\n",
            "RangeIndex: 506 entries, 0 to 505\n",
            "Data columns (total 14 columns):\n",
            " #   Column   Non-Null Count  Dtype  \n",
            "---  ------   --------------  -----  \n",
            " 0   CRIM     506 non-null    float64\n",
            " 1   ZN       506 non-null    float64\n",
            " 2   INDUS    506 non-null    float64\n",
            " 3   CHAS     506 non-null    int64  \n",
            " 4   NOX      506 non-null    float64\n",
            " 5   RM       506 non-null    float64\n",
            " 6   AGE      506 non-null    float64\n",
            " 7   DIS      506 non-null    float64\n",
            " 8   RAD      506 non-null    int64  \n",
            " 9   TAX      506 non-null    float64\n",
            " 10  PTRATIO  506 non-null    float64\n",
            " 11  B        506 non-null    float64\n",
            " 12  LSTAT    506 non-null    float64\n",
            " 13  MEDV     506 non-null    float64\n",
            "dtypes: float64(12), int64(2)\n",
            "memory usage: 55.5 KB\n"
          ]
        }
      ]
    },
    {
      "cell_type": "markdown",
      "source": [
        "Como podemos comprobar no existen registros nulos y todos los datos son de tipo numérico, para un total de 506 registros. Es interesante también observar como tanto `CHAS` como `RAD` son de tipo entero (int), lo que nos da una idea de su carácter categórico, mientras el resto de variables son de coma flotante."
      ],
      "metadata": {
        "id": "DDhEwobTeGkU"
      }
    },
    {
      "cell_type": "code",
      "source": [
        "viviendas.corr().round(2)"
      ],
      "metadata": {
        "colab": {
          "base_uri": "https://localhost:8080/",
          "height": 488
        },
        "id": "SIMC4HcIeush",
        "outputId": "65d11644-a8bc-42be-f842-b14c4a021727"
      },
      "execution_count": 5,
      "outputs": [
        {
          "output_type": "execute_result",
          "data": {
            "text/plain": [
              "         CRIM    ZN  INDUS  CHAS   NOX    RM   AGE   DIS   RAD   TAX  PTRATIO  \\\n",
              "CRIM     1.00 -0.20   0.41 -0.06  0.42 -0.22  0.35 -0.38  0.63  0.58     0.29   \n",
              "ZN      -0.20  1.00  -0.53 -0.04 -0.52  0.31 -0.57  0.66 -0.31 -0.31    -0.39   \n",
              "INDUS    0.41 -0.53   1.00  0.06  0.76 -0.39  0.64 -0.71  0.60  0.72     0.38   \n",
              "CHAS    -0.06 -0.04   0.06  1.00  0.09  0.09  0.09 -0.10 -0.01 -0.04    -0.12   \n",
              "NOX      0.42 -0.52   0.76  0.09  1.00 -0.30  0.73 -0.77  0.61  0.67     0.19   \n",
              "RM      -0.22  0.31  -0.39  0.09 -0.30  1.00 -0.24  0.21 -0.21 -0.29    -0.36   \n",
              "AGE      0.35 -0.57   0.64  0.09  0.73 -0.24  1.00 -0.75  0.46  0.51     0.26   \n",
              "DIS     -0.38  0.66  -0.71 -0.10 -0.77  0.21 -0.75  1.00 -0.49 -0.53    -0.23   \n",
              "RAD      0.63 -0.31   0.60 -0.01  0.61 -0.21  0.46 -0.49  1.00  0.91     0.46   \n",
              "TAX      0.58 -0.31   0.72 -0.04  0.67 -0.29  0.51 -0.53  0.91  1.00     0.46   \n",
              "PTRATIO  0.29 -0.39   0.38 -0.12  0.19 -0.36  0.26 -0.23  0.46  0.46     1.00   \n",
              "B       -0.39  0.18  -0.36  0.05 -0.38  0.13 -0.27  0.29 -0.44 -0.44    -0.18   \n",
              "LSTAT    0.46 -0.41   0.60 -0.05  0.59 -0.61  0.60 -0.50  0.49  0.54     0.37   \n",
              "MEDV    -0.39  0.36  -0.48  0.18 -0.43  0.70 -0.38  0.25 -0.38 -0.47    -0.51   \n",
              "\n",
              "            B  LSTAT  MEDV  \n",
              "CRIM    -0.39   0.46 -0.39  \n",
              "ZN       0.18  -0.41  0.36  \n",
              "INDUS   -0.36   0.60 -0.48  \n",
              "CHAS     0.05  -0.05  0.18  \n",
              "NOX     -0.38   0.59 -0.43  \n",
              "RM       0.13  -0.61  0.70  \n",
              "AGE     -0.27   0.60 -0.38  \n",
              "DIS      0.29  -0.50  0.25  \n",
              "RAD     -0.44   0.49 -0.38  \n",
              "TAX     -0.44   0.54 -0.47  \n",
              "PTRATIO -0.18   0.37 -0.51  \n",
              "B        1.00  -0.37  0.33  \n",
              "LSTAT   -0.37   1.00 -0.74  \n",
              "MEDV     0.33  -0.74  1.00  "
            ],
            "text/html": [
              "\n",
              "  <div id=\"df-cbde0dd5-ee85-4243-b8a1-caeaff115227\" class=\"colab-df-container\">\n",
              "    <div>\n",
              "<style scoped>\n",
              "    .dataframe tbody tr th:only-of-type {\n",
              "        vertical-align: middle;\n",
              "    }\n",
              "\n",
              "    .dataframe tbody tr th {\n",
              "        vertical-align: top;\n",
              "    }\n",
              "\n",
              "    .dataframe thead th {\n",
              "        text-align: right;\n",
              "    }\n",
              "</style>\n",
              "<table border=\"1\" class=\"dataframe\">\n",
              "  <thead>\n",
              "    <tr style=\"text-align: right;\">\n",
              "      <th></th>\n",
              "      <th>CRIM</th>\n",
              "      <th>ZN</th>\n",
              "      <th>INDUS</th>\n",
              "      <th>CHAS</th>\n",
              "      <th>NOX</th>\n",
              "      <th>RM</th>\n",
              "      <th>AGE</th>\n",
              "      <th>DIS</th>\n",
              "      <th>RAD</th>\n",
              "      <th>TAX</th>\n",
              "      <th>PTRATIO</th>\n",
              "      <th>B</th>\n",
              "      <th>LSTAT</th>\n",
              "      <th>MEDV</th>\n",
              "    </tr>\n",
              "  </thead>\n",
              "  <tbody>\n",
              "    <tr>\n",
              "      <th>CRIM</th>\n",
              "      <td>1.00</td>\n",
              "      <td>-0.20</td>\n",
              "      <td>0.41</td>\n",
              "      <td>-0.06</td>\n",
              "      <td>0.42</td>\n",
              "      <td>-0.22</td>\n",
              "      <td>0.35</td>\n",
              "      <td>-0.38</td>\n",
              "      <td>0.63</td>\n",
              "      <td>0.58</td>\n",
              "      <td>0.29</td>\n",
              "      <td>-0.39</td>\n",
              "      <td>0.46</td>\n",
              "      <td>-0.39</td>\n",
              "    </tr>\n",
              "    <tr>\n",
              "      <th>ZN</th>\n",
              "      <td>-0.20</td>\n",
              "      <td>1.00</td>\n",
              "      <td>-0.53</td>\n",
              "      <td>-0.04</td>\n",
              "      <td>-0.52</td>\n",
              "      <td>0.31</td>\n",
              "      <td>-0.57</td>\n",
              "      <td>0.66</td>\n",
              "      <td>-0.31</td>\n",
              "      <td>-0.31</td>\n",
              "      <td>-0.39</td>\n",
              "      <td>0.18</td>\n",
              "      <td>-0.41</td>\n",
              "      <td>0.36</td>\n",
              "    </tr>\n",
              "    <tr>\n",
              "      <th>INDUS</th>\n",
              "      <td>0.41</td>\n",
              "      <td>-0.53</td>\n",
              "      <td>1.00</td>\n",
              "      <td>0.06</td>\n",
              "      <td>0.76</td>\n",
              "      <td>-0.39</td>\n",
              "      <td>0.64</td>\n",
              "      <td>-0.71</td>\n",
              "      <td>0.60</td>\n",
              "      <td>0.72</td>\n",
              "      <td>0.38</td>\n",
              "      <td>-0.36</td>\n",
              "      <td>0.60</td>\n",
              "      <td>-0.48</td>\n",
              "    </tr>\n",
              "    <tr>\n",
              "      <th>CHAS</th>\n",
              "      <td>-0.06</td>\n",
              "      <td>-0.04</td>\n",
              "      <td>0.06</td>\n",
              "      <td>1.00</td>\n",
              "      <td>0.09</td>\n",
              "      <td>0.09</td>\n",
              "      <td>0.09</td>\n",
              "      <td>-0.10</td>\n",
              "      <td>-0.01</td>\n",
              "      <td>-0.04</td>\n",
              "      <td>-0.12</td>\n",
              "      <td>0.05</td>\n",
              "      <td>-0.05</td>\n",
              "      <td>0.18</td>\n",
              "    </tr>\n",
              "    <tr>\n",
              "      <th>NOX</th>\n",
              "      <td>0.42</td>\n",
              "      <td>-0.52</td>\n",
              "      <td>0.76</td>\n",
              "      <td>0.09</td>\n",
              "      <td>1.00</td>\n",
              "      <td>-0.30</td>\n",
              "      <td>0.73</td>\n",
              "      <td>-0.77</td>\n",
              "      <td>0.61</td>\n",
              "      <td>0.67</td>\n",
              "      <td>0.19</td>\n",
              "      <td>-0.38</td>\n",
              "      <td>0.59</td>\n",
              "      <td>-0.43</td>\n",
              "    </tr>\n",
              "    <tr>\n",
              "      <th>RM</th>\n",
              "      <td>-0.22</td>\n",
              "      <td>0.31</td>\n",
              "      <td>-0.39</td>\n",
              "      <td>0.09</td>\n",
              "      <td>-0.30</td>\n",
              "      <td>1.00</td>\n",
              "      <td>-0.24</td>\n",
              "      <td>0.21</td>\n",
              "      <td>-0.21</td>\n",
              "      <td>-0.29</td>\n",
              "      <td>-0.36</td>\n",
              "      <td>0.13</td>\n",
              "      <td>-0.61</td>\n",
              "      <td>0.70</td>\n",
              "    </tr>\n",
              "    <tr>\n",
              "      <th>AGE</th>\n",
              "      <td>0.35</td>\n",
              "      <td>-0.57</td>\n",
              "      <td>0.64</td>\n",
              "      <td>0.09</td>\n",
              "      <td>0.73</td>\n",
              "      <td>-0.24</td>\n",
              "      <td>1.00</td>\n",
              "      <td>-0.75</td>\n",
              "      <td>0.46</td>\n",
              "      <td>0.51</td>\n",
              "      <td>0.26</td>\n",
              "      <td>-0.27</td>\n",
              "      <td>0.60</td>\n",
              "      <td>-0.38</td>\n",
              "    </tr>\n",
              "    <tr>\n",
              "      <th>DIS</th>\n",
              "      <td>-0.38</td>\n",
              "      <td>0.66</td>\n",
              "      <td>-0.71</td>\n",
              "      <td>-0.10</td>\n",
              "      <td>-0.77</td>\n",
              "      <td>0.21</td>\n",
              "      <td>-0.75</td>\n",
              "      <td>1.00</td>\n",
              "      <td>-0.49</td>\n",
              "      <td>-0.53</td>\n",
              "      <td>-0.23</td>\n",
              "      <td>0.29</td>\n",
              "      <td>-0.50</td>\n",
              "      <td>0.25</td>\n",
              "    </tr>\n",
              "    <tr>\n",
              "      <th>RAD</th>\n",
              "      <td>0.63</td>\n",
              "      <td>-0.31</td>\n",
              "      <td>0.60</td>\n",
              "      <td>-0.01</td>\n",
              "      <td>0.61</td>\n",
              "      <td>-0.21</td>\n",
              "      <td>0.46</td>\n",
              "      <td>-0.49</td>\n",
              "      <td>1.00</td>\n",
              "      <td>0.91</td>\n",
              "      <td>0.46</td>\n",
              "      <td>-0.44</td>\n",
              "      <td>0.49</td>\n",
              "      <td>-0.38</td>\n",
              "    </tr>\n",
              "    <tr>\n",
              "      <th>TAX</th>\n",
              "      <td>0.58</td>\n",
              "      <td>-0.31</td>\n",
              "      <td>0.72</td>\n",
              "      <td>-0.04</td>\n",
              "      <td>0.67</td>\n",
              "      <td>-0.29</td>\n",
              "      <td>0.51</td>\n",
              "      <td>-0.53</td>\n",
              "      <td>0.91</td>\n",
              "      <td>1.00</td>\n",
              "      <td>0.46</td>\n",
              "      <td>-0.44</td>\n",
              "      <td>0.54</td>\n",
              "      <td>-0.47</td>\n",
              "    </tr>\n",
              "    <tr>\n",
              "      <th>PTRATIO</th>\n",
              "      <td>0.29</td>\n",
              "      <td>-0.39</td>\n",
              "      <td>0.38</td>\n",
              "      <td>-0.12</td>\n",
              "      <td>0.19</td>\n",
              "      <td>-0.36</td>\n",
              "      <td>0.26</td>\n",
              "      <td>-0.23</td>\n",
              "      <td>0.46</td>\n",
              "      <td>0.46</td>\n",
              "      <td>1.00</td>\n",
              "      <td>-0.18</td>\n",
              "      <td>0.37</td>\n",
              "      <td>-0.51</td>\n",
              "    </tr>\n",
              "    <tr>\n",
              "      <th>B</th>\n",
              "      <td>-0.39</td>\n",
              "      <td>0.18</td>\n",
              "      <td>-0.36</td>\n",
              "      <td>0.05</td>\n",
              "      <td>-0.38</td>\n",
              "      <td>0.13</td>\n",
              "      <td>-0.27</td>\n",
              "      <td>0.29</td>\n",
              "      <td>-0.44</td>\n",
              "      <td>-0.44</td>\n",
              "      <td>-0.18</td>\n",
              "      <td>1.00</td>\n",
              "      <td>-0.37</td>\n",
              "      <td>0.33</td>\n",
              "    </tr>\n",
              "    <tr>\n",
              "      <th>LSTAT</th>\n",
              "      <td>0.46</td>\n",
              "      <td>-0.41</td>\n",
              "      <td>0.60</td>\n",
              "      <td>-0.05</td>\n",
              "      <td>0.59</td>\n",
              "      <td>-0.61</td>\n",
              "      <td>0.60</td>\n",
              "      <td>-0.50</td>\n",
              "      <td>0.49</td>\n",
              "      <td>0.54</td>\n",
              "      <td>0.37</td>\n",
              "      <td>-0.37</td>\n",
              "      <td>1.00</td>\n",
              "      <td>-0.74</td>\n",
              "    </tr>\n",
              "    <tr>\n",
              "      <th>MEDV</th>\n",
              "      <td>-0.39</td>\n",
              "      <td>0.36</td>\n",
              "      <td>-0.48</td>\n",
              "      <td>0.18</td>\n",
              "      <td>-0.43</td>\n",
              "      <td>0.70</td>\n",
              "      <td>-0.38</td>\n",
              "      <td>0.25</td>\n",
              "      <td>-0.38</td>\n",
              "      <td>-0.47</td>\n",
              "      <td>-0.51</td>\n",
              "      <td>0.33</td>\n",
              "      <td>-0.74</td>\n",
              "      <td>1.00</td>\n",
              "    </tr>\n",
              "  </tbody>\n",
              "</table>\n",
              "</div>\n",
              "    <div class=\"colab-df-buttons\">\n",
              "\n",
              "  <div class=\"colab-df-container\">\n",
              "    <button class=\"colab-df-convert\" onclick=\"convertToInteractive('df-cbde0dd5-ee85-4243-b8a1-caeaff115227')\"\n",
              "            title=\"Convert this dataframe to an interactive table.\"\n",
              "            style=\"display:none;\">\n",
              "\n",
              "  <svg xmlns=\"http://www.w3.org/2000/svg\" height=\"24px\" viewBox=\"0 -960 960 960\">\n",
              "    <path d=\"M120-120v-720h720v720H120Zm60-500h600v-160H180v160Zm220 220h160v-160H400v160Zm0 220h160v-160H400v160ZM180-400h160v-160H180v160Zm440 0h160v-160H620v160ZM180-180h160v-160H180v160Zm440 0h160v-160H620v160Z\"/>\n",
              "  </svg>\n",
              "    </button>\n",
              "\n",
              "  <style>\n",
              "    .colab-df-container {\n",
              "      display:flex;\n",
              "      gap: 12px;\n",
              "    }\n",
              "\n",
              "    .colab-df-convert {\n",
              "      background-color: #E8F0FE;\n",
              "      border: none;\n",
              "      border-radius: 50%;\n",
              "      cursor: pointer;\n",
              "      display: none;\n",
              "      fill: #1967D2;\n",
              "      height: 32px;\n",
              "      padding: 0 0 0 0;\n",
              "      width: 32px;\n",
              "    }\n",
              "\n",
              "    .colab-df-convert:hover {\n",
              "      background-color: #E2EBFA;\n",
              "      box-shadow: 0px 1px 2px rgba(60, 64, 67, 0.3), 0px 1px 3px 1px rgba(60, 64, 67, 0.15);\n",
              "      fill: #174EA6;\n",
              "    }\n",
              "\n",
              "    .colab-df-buttons div {\n",
              "      margin-bottom: 4px;\n",
              "    }\n",
              "\n",
              "    [theme=dark] .colab-df-convert {\n",
              "      background-color: #3B4455;\n",
              "      fill: #D2E3FC;\n",
              "    }\n",
              "\n",
              "    [theme=dark] .colab-df-convert:hover {\n",
              "      background-color: #434B5C;\n",
              "      box-shadow: 0px 1px 3px 1px rgba(0, 0, 0, 0.15);\n",
              "      filter: drop-shadow(0px 1px 2px rgba(0, 0, 0, 0.3));\n",
              "      fill: #FFFFFF;\n",
              "    }\n",
              "  </style>\n",
              "\n",
              "    <script>\n",
              "      const buttonEl =\n",
              "        document.querySelector('#df-cbde0dd5-ee85-4243-b8a1-caeaff115227 button.colab-df-convert');\n",
              "      buttonEl.style.display =\n",
              "        google.colab.kernel.accessAllowed ? 'block' : 'none';\n",
              "\n",
              "      async function convertToInteractive(key) {\n",
              "        const element = document.querySelector('#df-cbde0dd5-ee85-4243-b8a1-caeaff115227');\n",
              "        const dataTable =\n",
              "          await google.colab.kernel.invokeFunction('convertToInteractive',\n",
              "                                                    [key], {});\n",
              "        if (!dataTable) return;\n",
              "\n",
              "        const docLinkHtml = 'Like what you see? Visit the ' +\n",
              "          '<a target=\"_blank\" href=https://colab.research.google.com/notebooks/data_table.ipynb>data table notebook</a>'\n",
              "          + ' to learn more about interactive tables.';\n",
              "        element.innerHTML = '';\n",
              "        dataTable['output_type'] = 'display_data';\n",
              "        await google.colab.output.renderOutput(dataTable, element);\n",
              "        const docLink = document.createElement('div');\n",
              "        docLink.innerHTML = docLinkHtml;\n",
              "        element.appendChild(docLink);\n",
              "      }\n",
              "    </script>\n",
              "  </div>\n",
              "\n",
              "\n",
              "<div id=\"df-2d8480c3-ce95-4f92-bb23-196d0a3f9943\">\n",
              "  <button class=\"colab-df-quickchart\" onclick=\"quickchart('df-2d8480c3-ce95-4f92-bb23-196d0a3f9943')\"\n",
              "            title=\"Suggest charts\"\n",
              "            style=\"display:none;\">\n",
              "\n",
              "<svg xmlns=\"http://www.w3.org/2000/svg\" height=\"24px\"viewBox=\"0 0 24 24\"\n",
              "     width=\"24px\">\n",
              "    <g>\n",
              "        <path d=\"M19 3H5c-1.1 0-2 .9-2 2v14c0 1.1.9 2 2 2h14c1.1 0 2-.9 2-2V5c0-1.1-.9-2-2-2zM9 17H7v-7h2v7zm4 0h-2V7h2v10zm4 0h-2v-4h2v4z\"/>\n",
              "    </g>\n",
              "</svg>\n",
              "  </button>\n",
              "\n",
              "<style>\n",
              "  .colab-df-quickchart {\n",
              "      --bg-color: #E8F0FE;\n",
              "      --fill-color: #1967D2;\n",
              "      --hover-bg-color: #E2EBFA;\n",
              "      --hover-fill-color: #174EA6;\n",
              "      --disabled-fill-color: #AAA;\n",
              "      --disabled-bg-color: #DDD;\n",
              "  }\n",
              "\n",
              "  [theme=dark] .colab-df-quickchart {\n",
              "      --bg-color: #3B4455;\n",
              "      --fill-color: #D2E3FC;\n",
              "      --hover-bg-color: #434B5C;\n",
              "      --hover-fill-color: #FFFFFF;\n",
              "      --disabled-bg-color: #3B4455;\n",
              "      --disabled-fill-color: #666;\n",
              "  }\n",
              "\n",
              "  .colab-df-quickchart {\n",
              "    background-color: var(--bg-color);\n",
              "    border: none;\n",
              "    border-radius: 50%;\n",
              "    cursor: pointer;\n",
              "    display: none;\n",
              "    fill: var(--fill-color);\n",
              "    height: 32px;\n",
              "    padding: 0;\n",
              "    width: 32px;\n",
              "  }\n",
              "\n",
              "  .colab-df-quickchart:hover {\n",
              "    background-color: var(--hover-bg-color);\n",
              "    box-shadow: 0 1px 2px rgba(60, 64, 67, 0.3), 0 1px 3px 1px rgba(60, 64, 67, 0.15);\n",
              "    fill: var(--button-hover-fill-color);\n",
              "  }\n",
              "\n",
              "  .colab-df-quickchart-complete:disabled,\n",
              "  .colab-df-quickchart-complete:disabled:hover {\n",
              "    background-color: var(--disabled-bg-color);\n",
              "    fill: var(--disabled-fill-color);\n",
              "    box-shadow: none;\n",
              "  }\n",
              "\n",
              "  .colab-df-spinner {\n",
              "    border: 2px solid var(--fill-color);\n",
              "    border-color: transparent;\n",
              "    border-bottom-color: var(--fill-color);\n",
              "    animation:\n",
              "      spin 1s steps(1) infinite;\n",
              "  }\n",
              "\n",
              "  @keyframes spin {\n",
              "    0% {\n",
              "      border-color: transparent;\n",
              "      border-bottom-color: var(--fill-color);\n",
              "      border-left-color: var(--fill-color);\n",
              "    }\n",
              "    20% {\n",
              "      border-color: transparent;\n",
              "      border-left-color: var(--fill-color);\n",
              "      border-top-color: var(--fill-color);\n",
              "    }\n",
              "    30% {\n",
              "      border-color: transparent;\n",
              "      border-left-color: var(--fill-color);\n",
              "      border-top-color: var(--fill-color);\n",
              "      border-right-color: var(--fill-color);\n",
              "    }\n",
              "    40% {\n",
              "      border-color: transparent;\n",
              "      border-right-color: var(--fill-color);\n",
              "      border-top-color: var(--fill-color);\n",
              "    }\n",
              "    60% {\n",
              "      border-color: transparent;\n",
              "      border-right-color: var(--fill-color);\n",
              "    }\n",
              "    80% {\n",
              "      border-color: transparent;\n",
              "      border-right-color: var(--fill-color);\n",
              "      border-bottom-color: var(--fill-color);\n",
              "    }\n",
              "    90% {\n",
              "      border-color: transparent;\n",
              "      border-bottom-color: var(--fill-color);\n",
              "    }\n",
              "  }\n",
              "</style>\n",
              "\n",
              "  <script>\n",
              "    async function quickchart(key) {\n",
              "      const quickchartButtonEl =\n",
              "        document.querySelector('#' + key + ' button');\n",
              "      quickchartButtonEl.disabled = true;  // To prevent multiple clicks.\n",
              "      quickchartButtonEl.classList.add('colab-df-spinner');\n",
              "      try {\n",
              "        const charts = await google.colab.kernel.invokeFunction(\n",
              "            'suggestCharts', [key], {});\n",
              "      } catch (error) {\n",
              "        console.error('Error during call to suggestCharts:', error);\n",
              "      }\n",
              "      quickchartButtonEl.classList.remove('colab-df-spinner');\n",
              "      quickchartButtonEl.classList.add('colab-df-quickchart-complete');\n",
              "    }\n",
              "    (() => {\n",
              "      let quickchartButtonEl =\n",
              "        document.querySelector('#df-2d8480c3-ce95-4f92-bb23-196d0a3f9943 button');\n",
              "      quickchartButtonEl.style.display =\n",
              "        google.colab.kernel.accessAllowed ? 'block' : 'none';\n",
              "    })();\n",
              "  </script>\n",
              "</div>\n",
              "    </div>\n",
              "  </div>\n"
            ]
          },
          "metadata": {},
          "execution_count": 5
        }
      ]
    },
    {
      "cell_type": "markdown",
      "source": [
        "Aquí podemos ver como se distribuyen las distintas correlaciones entre las variables sin transformar, en general son correlaciones medias, tanto positivas como negativas, dependiendo de las variables. `CHAS` al ser binaria está naturalmente menos correlacionada con todas las demás."
      ],
      "metadata": {
        "id": "FpFX-2q9e4sp"
      }
    },
    {
      "cell_type": "code",
      "source": [
        "viviendas_num = viviendas.drop(['CHAS','RAD'], axis=1)\n",
        "viviendas_num.describe().round(2)"
      ],
      "metadata": {
        "colab": {
          "base_uri": "https://localhost:8080/",
          "height": 300
        },
        "id": "0kJQYiyrdJu8",
        "outputId": "d4e1a8fb-0e27-440f-9333-dbbf9801cb5a"
      },
      "execution_count": 6,
      "outputs": [
        {
          "output_type": "execute_result",
          "data": {
            "text/plain": [
              "         CRIM      ZN   INDUS     NOX      RM     AGE     DIS     TAX  \\\n",
              "count  506.00  506.00  506.00  506.00  506.00  506.00  506.00  506.00   \n",
              "mean     3.61   11.36   11.14    0.55    6.28   68.57    3.80  408.24   \n",
              "std      8.60   23.32    6.86    0.12    0.70   28.15    2.11  168.54   \n",
              "min      0.01    0.00    0.46    0.38    3.56    2.90    1.13  187.00   \n",
              "25%      0.08    0.00    5.19    0.45    5.89   45.02    2.10  279.00   \n",
              "50%      0.26    0.00    9.69    0.54    6.21   77.50    3.21  330.00   \n",
              "75%      3.68   12.50   18.10    0.62    6.62   94.07    5.19  666.00   \n",
              "max     88.98  100.00   27.74    0.87    8.78  100.00   12.13  711.00   \n",
              "\n",
              "       PTRATIO       B   LSTAT    MEDV  \n",
              "count   506.00  506.00  506.00  506.00  \n",
              "mean     18.46  356.67   12.65   22.53  \n",
              "std       2.16   91.29    7.14    9.20  \n",
              "min      12.60    0.32    1.73    5.00  \n",
              "25%      17.40  375.38    6.95   17.02  \n",
              "50%      19.05  391.44   11.36   21.20  \n",
              "75%      20.20  396.22   16.96   25.00  \n",
              "max      22.00  396.90   37.97   50.00  "
            ],
            "text/html": [
              "\n",
              "  <div id=\"df-a9363da6-5ad8-4942-a468-f24990dd80d6\" class=\"colab-df-container\">\n",
              "    <div>\n",
              "<style scoped>\n",
              "    .dataframe tbody tr th:only-of-type {\n",
              "        vertical-align: middle;\n",
              "    }\n",
              "\n",
              "    .dataframe tbody tr th {\n",
              "        vertical-align: top;\n",
              "    }\n",
              "\n",
              "    .dataframe thead th {\n",
              "        text-align: right;\n",
              "    }\n",
              "</style>\n",
              "<table border=\"1\" class=\"dataframe\">\n",
              "  <thead>\n",
              "    <tr style=\"text-align: right;\">\n",
              "      <th></th>\n",
              "      <th>CRIM</th>\n",
              "      <th>ZN</th>\n",
              "      <th>INDUS</th>\n",
              "      <th>NOX</th>\n",
              "      <th>RM</th>\n",
              "      <th>AGE</th>\n",
              "      <th>DIS</th>\n",
              "      <th>TAX</th>\n",
              "      <th>PTRATIO</th>\n",
              "      <th>B</th>\n",
              "      <th>LSTAT</th>\n",
              "      <th>MEDV</th>\n",
              "    </tr>\n",
              "  </thead>\n",
              "  <tbody>\n",
              "    <tr>\n",
              "      <th>count</th>\n",
              "      <td>506.00</td>\n",
              "      <td>506.00</td>\n",
              "      <td>506.00</td>\n",
              "      <td>506.00</td>\n",
              "      <td>506.00</td>\n",
              "      <td>506.00</td>\n",
              "      <td>506.00</td>\n",
              "      <td>506.00</td>\n",
              "      <td>506.00</td>\n",
              "      <td>506.00</td>\n",
              "      <td>506.00</td>\n",
              "      <td>506.00</td>\n",
              "    </tr>\n",
              "    <tr>\n",
              "      <th>mean</th>\n",
              "      <td>3.61</td>\n",
              "      <td>11.36</td>\n",
              "      <td>11.14</td>\n",
              "      <td>0.55</td>\n",
              "      <td>6.28</td>\n",
              "      <td>68.57</td>\n",
              "      <td>3.80</td>\n",
              "      <td>408.24</td>\n",
              "      <td>18.46</td>\n",
              "      <td>356.67</td>\n",
              "      <td>12.65</td>\n",
              "      <td>22.53</td>\n",
              "    </tr>\n",
              "    <tr>\n",
              "      <th>std</th>\n",
              "      <td>8.60</td>\n",
              "      <td>23.32</td>\n",
              "      <td>6.86</td>\n",
              "      <td>0.12</td>\n",
              "      <td>0.70</td>\n",
              "      <td>28.15</td>\n",
              "      <td>2.11</td>\n",
              "      <td>168.54</td>\n",
              "      <td>2.16</td>\n",
              "      <td>91.29</td>\n",
              "      <td>7.14</td>\n",
              "      <td>9.20</td>\n",
              "    </tr>\n",
              "    <tr>\n",
              "      <th>min</th>\n",
              "      <td>0.01</td>\n",
              "      <td>0.00</td>\n",
              "      <td>0.46</td>\n",
              "      <td>0.38</td>\n",
              "      <td>3.56</td>\n",
              "      <td>2.90</td>\n",
              "      <td>1.13</td>\n",
              "      <td>187.00</td>\n",
              "      <td>12.60</td>\n",
              "      <td>0.32</td>\n",
              "      <td>1.73</td>\n",
              "      <td>5.00</td>\n",
              "    </tr>\n",
              "    <tr>\n",
              "      <th>25%</th>\n",
              "      <td>0.08</td>\n",
              "      <td>0.00</td>\n",
              "      <td>5.19</td>\n",
              "      <td>0.45</td>\n",
              "      <td>5.89</td>\n",
              "      <td>45.02</td>\n",
              "      <td>2.10</td>\n",
              "      <td>279.00</td>\n",
              "      <td>17.40</td>\n",
              "      <td>375.38</td>\n",
              "      <td>6.95</td>\n",
              "      <td>17.02</td>\n",
              "    </tr>\n",
              "    <tr>\n",
              "      <th>50%</th>\n",
              "      <td>0.26</td>\n",
              "      <td>0.00</td>\n",
              "      <td>9.69</td>\n",
              "      <td>0.54</td>\n",
              "      <td>6.21</td>\n",
              "      <td>77.50</td>\n",
              "      <td>3.21</td>\n",
              "      <td>330.00</td>\n",
              "      <td>19.05</td>\n",
              "      <td>391.44</td>\n",
              "      <td>11.36</td>\n",
              "      <td>21.20</td>\n",
              "    </tr>\n",
              "    <tr>\n",
              "      <th>75%</th>\n",
              "      <td>3.68</td>\n",
              "      <td>12.50</td>\n",
              "      <td>18.10</td>\n",
              "      <td>0.62</td>\n",
              "      <td>6.62</td>\n",
              "      <td>94.07</td>\n",
              "      <td>5.19</td>\n",
              "      <td>666.00</td>\n",
              "      <td>20.20</td>\n",
              "      <td>396.22</td>\n",
              "      <td>16.96</td>\n",
              "      <td>25.00</td>\n",
              "    </tr>\n",
              "    <tr>\n",
              "      <th>max</th>\n",
              "      <td>88.98</td>\n",
              "      <td>100.00</td>\n",
              "      <td>27.74</td>\n",
              "      <td>0.87</td>\n",
              "      <td>8.78</td>\n",
              "      <td>100.00</td>\n",
              "      <td>12.13</td>\n",
              "      <td>711.00</td>\n",
              "      <td>22.00</td>\n",
              "      <td>396.90</td>\n",
              "      <td>37.97</td>\n",
              "      <td>50.00</td>\n",
              "    </tr>\n",
              "  </tbody>\n",
              "</table>\n",
              "</div>\n",
              "    <div class=\"colab-df-buttons\">\n",
              "\n",
              "  <div class=\"colab-df-container\">\n",
              "    <button class=\"colab-df-convert\" onclick=\"convertToInteractive('df-a9363da6-5ad8-4942-a468-f24990dd80d6')\"\n",
              "            title=\"Convert this dataframe to an interactive table.\"\n",
              "            style=\"display:none;\">\n",
              "\n",
              "  <svg xmlns=\"http://www.w3.org/2000/svg\" height=\"24px\" viewBox=\"0 -960 960 960\">\n",
              "    <path d=\"M120-120v-720h720v720H120Zm60-500h600v-160H180v160Zm220 220h160v-160H400v160Zm0 220h160v-160H400v160ZM180-400h160v-160H180v160Zm440 0h160v-160H620v160ZM180-180h160v-160H180v160Zm440 0h160v-160H620v160Z\"/>\n",
              "  </svg>\n",
              "    </button>\n",
              "\n",
              "  <style>\n",
              "    .colab-df-container {\n",
              "      display:flex;\n",
              "      gap: 12px;\n",
              "    }\n",
              "\n",
              "    .colab-df-convert {\n",
              "      background-color: #E8F0FE;\n",
              "      border: none;\n",
              "      border-radius: 50%;\n",
              "      cursor: pointer;\n",
              "      display: none;\n",
              "      fill: #1967D2;\n",
              "      height: 32px;\n",
              "      padding: 0 0 0 0;\n",
              "      width: 32px;\n",
              "    }\n",
              "\n",
              "    .colab-df-convert:hover {\n",
              "      background-color: #E2EBFA;\n",
              "      box-shadow: 0px 1px 2px rgba(60, 64, 67, 0.3), 0px 1px 3px 1px rgba(60, 64, 67, 0.15);\n",
              "      fill: #174EA6;\n",
              "    }\n",
              "\n",
              "    .colab-df-buttons div {\n",
              "      margin-bottom: 4px;\n",
              "    }\n",
              "\n",
              "    [theme=dark] .colab-df-convert {\n",
              "      background-color: #3B4455;\n",
              "      fill: #D2E3FC;\n",
              "    }\n",
              "\n",
              "    [theme=dark] .colab-df-convert:hover {\n",
              "      background-color: #434B5C;\n",
              "      box-shadow: 0px 1px 3px 1px rgba(0, 0, 0, 0.15);\n",
              "      filter: drop-shadow(0px 1px 2px rgba(0, 0, 0, 0.3));\n",
              "      fill: #FFFFFF;\n",
              "    }\n",
              "  </style>\n",
              "\n",
              "    <script>\n",
              "      const buttonEl =\n",
              "        document.querySelector('#df-a9363da6-5ad8-4942-a468-f24990dd80d6 button.colab-df-convert');\n",
              "      buttonEl.style.display =\n",
              "        google.colab.kernel.accessAllowed ? 'block' : 'none';\n",
              "\n",
              "      async function convertToInteractive(key) {\n",
              "        const element = document.querySelector('#df-a9363da6-5ad8-4942-a468-f24990dd80d6');\n",
              "        const dataTable =\n",
              "          await google.colab.kernel.invokeFunction('convertToInteractive',\n",
              "                                                    [key], {});\n",
              "        if (!dataTable) return;\n",
              "\n",
              "        const docLinkHtml = 'Like what you see? Visit the ' +\n",
              "          '<a target=\"_blank\" href=https://colab.research.google.com/notebooks/data_table.ipynb>data table notebook</a>'\n",
              "          + ' to learn more about interactive tables.';\n",
              "        element.innerHTML = '';\n",
              "        dataTable['output_type'] = 'display_data';\n",
              "        await google.colab.output.renderOutput(dataTable, element);\n",
              "        const docLink = document.createElement('div');\n",
              "        docLink.innerHTML = docLinkHtml;\n",
              "        element.appendChild(docLink);\n",
              "      }\n",
              "    </script>\n",
              "  </div>\n",
              "\n",
              "\n",
              "<div id=\"df-ad88cb58-2c4a-47d0-8ee4-2258d153acb3\">\n",
              "  <button class=\"colab-df-quickchart\" onclick=\"quickchart('df-ad88cb58-2c4a-47d0-8ee4-2258d153acb3')\"\n",
              "            title=\"Suggest charts\"\n",
              "            style=\"display:none;\">\n",
              "\n",
              "<svg xmlns=\"http://www.w3.org/2000/svg\" height=\"24px\"viewBox=\"0 0 24 24\"\n",
              "     width=\"24px\">\n",
              "    <g>\n",
              "        <path d=\"M19 3H5c-1.1 0-2 .9-2 2v14c0 1.1.9 2 2 2h14c1.1 0 2-.9 2-2V5c0-1.1-.9-2-2-2zM9 17H7v-7h2v7zm4 0h-2V7h2v10zm4 0h-2v-4h2v4z\"/>\n",
              "    </g>\n",
              "</svg>\n",
              "  </button>\n",
              "\n",
              "<style>\n",
              "  .colab-df-quickchart {\n",
              "      --bg-color: #E8F0FE;\n",
              "      --fill-color: #1967D2;\n",
              "      --hover-bg-color: #E2EBFA;\n",
              "      --hover-fill-color: #174EA6;\n",
              "      --disabled-fill-color: #AAA;\n",
              "      --disabled-bg-color: #DDD;\n",
              "  }\n",
              "\n",
              "  [theme=dark] .colab-df-quickchart {\n",
              "      --bg-color: #3B4455;\n",
              "      --fill-color: #D2E3FC;\n",
              "      --hover-bg-color: #434B5C;\n",
              "      --hover-fill-color: #FFFFFF;\n",
              "      --disabled-bg-color: #3B4455;\n",
              "      --disabled-fill-color: #666;\n",
              "  }\n",
              "\n",
              "  .colab-df-quickchart {\n",
              "    background-color: var(--bg-color);\n",
              "    border: none;\n",
              "    border-radius: 50%;\n",
              "    cursor: pointer;\n",
              "    display: none;\n",
              "    fill: var(--fill-color);\n",
              "    height: 32px;\n",
              "    padding: 0;\n",
              "    width: 32px;\n",
              "  }\n",
              "\n",
              "  .colab-df-quickchart:hover {\n",
              "    background-color: var(--hover-bg-color);\n",
              "    box-shadow: 0 1px 2px rgba(60, 64, 67, 0.3), 0 1px 3px 1px rgba(60, 64, 67, 0.15);\n",
              "    fill: var(--button-hover-fill-color);\n",
              "  }\n",
              "\n",
              "  .colab-df-quickchart-complete:disabled,\n",
              "  .colab-df-quickchart-complete:disabled:hover {\n",
              "    background-color: var(--disabled-bg-color);\n",
              "    fill: var(--disabled-fill-color);\n",
              "    box-shadow: none;\n",
              "  }\n",
              "\n",
              "  .colab-df-spinner {\n",
              "    border: 2px solid var(--fill-color);\n",
              "    border-color: transparent;\n",
              "    border-bottom-color: var(--fill-color);\n",
              "    animation:\n",
              "      spin 1s steps(1) infinite;\n",
              "  }\n",
              "\n",
              "  @keyframes spin {\n",
              "    0% {\n",
              "      border-color: transparent;\n",
              "      border-bottom-color: var(--fill-color);\n",
              "      border-left-color: var(--fill-color);\n",
              "    }\n",
              "    20% {\n",
              "      border-color: transparent;\n",
              "      border-left-color: var(--fill-color);\n",
              "      border-top-color: var(--fill-color);\n",
              "    }\n",
              "    30% {\n",
              "      border-color: transparent;\n",
              "      border-left-color: var(--fill-color);\n",
              "      border-top-color: var(--fill-color);\n",
              "      border-right-color: var(--fill-color);\n",
              "    }\n",
              "    40% {\n",
              "      border-color: transparent;\n",
              "      border-right-color: var(--fill-color);\n",
              "      border-top-color: var(--fill-color);\n",
              "    }\n",
              "    60% {\n",
              "      border-color: transparent;\n",
              "      border-right-color: var(--fill-color);\n",
              "    }\n",
              "    80% {\n",
              "      border-color: transparent;\n",
              "      border-right-color: var(--fill-color);\n",
              "      border-bottom-color: var(--fill-color);\n",
              "    }\n",
              "    90% {\n",
              "      border-color: transparent;\n",
              "      border-bottom-color: var(--fill-color);\n",
              "    }\n",
              "  }\n",
              "</style>\n",
              "\n",
              "  <script>\n",
              "    async function quickchart(key) {\n",
              "      const quickchartButtonEl =\n",
              "        document.querySelector('#' + key + ' button');\n",
              "      quickchartButtonEl.disabled = true;  // To prevent multiple clicks.\n",
              "      quickchartButtonEl.classList.add('colab-df-spinner');\n",
              "      try {\n",
              "        const charts = await google.colab.kernel.invokeFunction(\n",
              "            'suggestCharts', [key], {});\n",
              "      } catch (error) {\n",
              "        console.error('Error during call to suggestCharts:', error);\n",
              "      }\n",
              "      quickchartButtonEl.classList.remove('colab-df-spinner');\n",
              "      quickchartButtonEl.classList.add('colab-df-quickchart-complete');\n",
              "    }\n",
              "    (() => {\n",
              "      let quickchartButtonEl =\n",
              "        document.querySelector('#df-ad88cb58-2c4a-47d0-8ee4-2258d153acb3 button');\n",
              "      quickchartButtonEl.style.display =\n",
              "        google.colab.kernel.accessAllowed ? 'block' : 'none';\n",
              "    })();\n",
              "  </script>\n",
              "</div>\n",
              "    </div>\n",
              "  </div>\n"
            ]
          },
          "metadata": {},
          "execution_count": 6
        }
      ]
    },
    {
      "cell_type": "markdown",
      "source": [
        "Arriba mostramos los principales parámetros de centralización y dispersión dentro de cada una de las variables, excluyendo aquellas que tienen un carácter binario / categórico (`CHAS` y `RAD`). Se observa como las escalas son distintas entre ellas, las medias están alejadas de 0, las desviciones típicas y rango intercuartílico (75% - 25%) reflejan a los datos alejados de la media y probablemente también existan valores extremos.\n",
        "\n",
        "Por todo lo anterior sería adecuado hacer un preprocesamiento de los datos que nos permita ajustar mejor nuestros modelos a la muestra disponible."
      ],
      "metadata": {
        "id": "waFuEmbViMLX"
      }
    },
    {
      "cell_type": "markdown",
      "source": [
        "# Preprocesamiento de datos:"
      ],
      "metadata": {
        "id": "f6UEK-TLnFxB"
      }
    },
    {
      "cell_type": "markdown",
      "source": [
        "En primer lugar, vamos a separar la variable dependiente y, de las variables dependientes X."
      ],
      "metadata": {
        "id": "2u9WSPFFnbxQ"
      }
    },
    {
      "cell_type": "code",
      "source": [
        "y = viviendas.MEDV\n",
        "X = viviendas.drop('MEDV', axis=1)"
      ],
      "metadata": {
        "id": "yK0PYhvtnFDH"
      },
      "execution_count": 7,
      "outputs": []
    },
    {
      "cell_type": "markdown",
      "source": [
        "En segundo lugar, separaremos los conjuntos de entrenamiento y prueba, antes de hacer cualquier transformación, para evitar sesgar los datos de prueba al transformarlos con los datos de entrenamiento, lo que haría menos objetivo el contraste del modelo."
      ],
      "metadata": {
        "id": "BAzfHH5foUiz"
      }
    },
    {
      "cell_type": "code",
      "source": [
        "from sklearn.model_selection import train_test_split"
      ],
      "metadata": {
        "id": "nxrtjv8WoJry"
      },
      "execution_count": 8,
      "outputs": []
    },
    {
      "cell_type": "code",
      "source": [
        "X_train, X_test, y_train, y_test = train_test_split(X, y, test_size=0.2, random_state=1)"
      ],
      "metadata": {
        "id": "iDXpxtwaoNbZ"
      },
      "execution_count": 9,
      "outputs": []
    },
    {
      "cell_type": "markdown",
      "source": [
        "Una vez hecho lo anterior, ya podemos transformar nuestras variables, lo que uniformiza los datos y en definitiva nos permite obtener modelos más precisos."
      ],
      "metadata": {
        "id": "QmwrCAWHoTbc"
      }
    },
    {
      "cell_type": "markdown",
      "source": [
        "Vamos primero a comprobar cuáles de nuestras variables siguen una distribución normal:"
      ],
      "metadata": {
        "id": "WO46JwL8rjFg"
      }
    },
    {
      "cell_type": "code",
      "source": [
        "from scipy.stats import shapiro"
      ],
      "metadata": {
        "id": "1YtLiT5Gr_5r"
      },
      "execution_count": 10,
      "outputs": []
    },
    {
      "cell_type": "code",
      "source": [
        "for x in X_train:\n",
        "  stat, p = shapiro(X_train[x])\n",
        "  if p > 0.05:\n",
        "    print(x+': Gaussiana'+' - p='+str(round(p,3)))\n",
        "  else:\n",
        "    print(x+': No gaussiana'+' - p='+str(round(p,3)))"
      ],
      "metadata": {
        "colab": {
          "base_uri": "https://localhost:8080/"
        },
        "id": "oSUaTi1nrJV-",
        "outputId": "3684180b-6c3a-4b4b-b2fc-87d7edd4c663"
      },
      "execution_count": 11,
      "outputs": [
        {
          "output_type": "stream",
          "name": "stdout",
          "text": [
            "CRIM: No gaussiana - p=0.0\n",
            "ZN: No gaussiana - p=0.0\n",
            "INDUS: No gaussiana - p=0.0\n",
            "CHAS: No gaussiana - p=0.0\n",
            "NOX: No gaussiana - p=0.0\n",
            "RM: No gaussiana - p=0.0\n",
            "AGE: No gaussiana - p=0.0\n",
            "DIS: No gaussiana - p=0.0\n",
            "RAD: No gaussiana - p=0.0\n",
            "TAX: No gaussiana - p=0.0\n",
            "PTRATIO: No gaussiana - p=0.0\n",
            "B: No gaussiana - p=0.0\n",
            "LSTAT: No gaussiana - p=0.0\n"
          ]
        }
      ]
    },
    {
      "cell_type": "markdown",
      "source": [
        "De acuerdo con el test de Shapiro-Wilk ninguna de las variables del conjunto de datos de entrenamiento sigue una distribución normal (gaussiana)."
      ],
      "metadata": {
        "id": "PjqevnN6xy_u"
      }
    },
    {
      "cell_type": "markdown",
      "source": [
        "Recuperamos las transformaciones hechas en la práctica M5_T02:"
      ],
      "metadata": {
        "id": "dmcCnTsk0aZ_"
      }
    },
    {
      "cell_type": "markdown",
      "source": [
        "Numéricas no gaussianas sin valores extremos: MinMax: INDUS, NOX, AGE y TAX."
      ],
      "metadata": {
        "id": "EJ5_yN-0ytDq"
      }
    },
    {
      "cell_type": "code",
      "source": [
        "X_train_transform = pd.DataFrame()\n",
        "X_test_transform = pd.DataFrame()"
      ],
      "metadata": {
        "id": "KPb-JDk4zUhX"
      },
      "execution_count": 22,
      "outputs": []
    },
    {
      "cell_type": "code",
      "source": [
        "from sklearn.preprocessing import MinMaxScaler\n",
        "\n",
        "scaler = MinMaxScaler()\n",
        "min_max_cols = ['INDUS', 'NOX', 'AGE', 'TAX']\n",
        "\n",
        "for i in min_max_cols:\n",
        "  X_train_min_max = scaler.fit_transform(X_train[[i]]).reshape(-1)\n",
        "  X_train_min_max_pd = pd.Series(X_train_min_max)\n",
        "  X_train_transform[i] = X_train_min_max_pd\n",
        "  X_test_min_max = scaler.transform(X_test[[i]]).reshape(-1)\n",
        "  X_test_min_max_pd = pd.Series(X_test_min_max)\n",
        "  X_test_transform[i] = X_test_min_max_pd"
      ],
      "metadata": {
        "id": "FxkDVrpTzHH3"
      },
      "execution_count": 23,
      "outputs": []
    },
    {
      "cell_type": "markdown",
      "source": [
        "Ahora ya tenemos todas las variables no gaussianas sin valores extremos transformadas y guardadas en viviendas_train_transform y viviendas_test_transform. Sigamos ..."
      ],
      "metadata": {
        "id": "KgAe0aMbzfTp"
      }
    },
    {
      "cell_type": "code",
      "source": [
        "from sklearn.preprocessing import RobustScaler\n",
        "\n",
        "scaler = RobustScaler()\n",
        "robust_cols = ['CRIM', 'ZN', 'RM', 'DIS', 'PTRATIO', 'B', 'LSTAT']\n",
        "\n",
        "for i in robust_cols:\n",
        "  X_train_robust = scaler.fit_transform(X_train[[i]]).reshape(-1)\n",
        "  X_train_robust_pd = pd.Series(X_train_robust)\n",
        "  X_train_transform[i] = X_train_robust_pd\n",
        "  X_test_robust = scaler.transform(X_test[[i]]).reshape(-1)\n",
        "  X_test_robust_pd = pd.Series(X_test_robust)\n",
        "  X_test_transform[i] = X_test_robust_pd"
      ],
      "metadata": {
        "id": "SkW8FoYIzg-T"
      },
      "execution_count": 24,
      "outputs": []
    },
    {
      "cell_type": "markdown",
      "source": [
        "... y ahora con valores extremos, utilizando RobustScaler."
      ],
      "metadata": {
        "id": "lIi7fmHVzq9v"
      }
    },
    {
      "cell_type": "markdown",
      "source": [
        "Nos quedan las variables de carácter binario / categórico: `CHAS` y `RAD`."
      ],
      "metadata": {
        "id": "0ep1UUCM0-Qf"
      }
    },
    {
      "cell_type": "markdown",
      "source": [
        "Para `CHAS` lo único que tenemos que hacer es incorporarla al nuevo dataframe creado para guardar las variables transformadas:"
      ],
      "metadata": {
        "id": "G1sYgb-p1HqB"
      }
    },
    {
      "cell_type": "code",
      "source": [
        "X_train_transform['CHAS'] = X_train['CHAS'].values\n",
        "X_test_transform['CHAS'] = X_test['CHAS'].values"
      ],
      "metadata": {
        "id": "IF7KLH721U9q"
      },
      "execution_count": 25,
      "outputs": []
    },
    {
      "cell_type": "markdown",
      "source": [
        "Mientras que `RAD` la desglosaremos en 9 columnas de tipo dummy:"
      ],
      "metadata": {
        "id": "sMBO5YJF1XMv"
      }
    },
    {
      "cell_type": "code",
      "source": [
        "from sklearn.preprocessing import OneHotEncoder\n",
        "\n",
        "scaler = OneHotEncoder()\n",
        "\n",
        "X_train_RAD = scaler.fit_transform(X_train[['RAD']])\n",
        "X_train_RAD_df = pd.DataFrame(X_train_RAD.toarray(), columns=scaler.get_feature_names_out(['RAD']))\n",
        "X_train_transform = X_train_transform.join(X_train_RAD_df)\n",
        "X_test_RAD = scaler.transform(X_test[['RAD']])\n",
        "X_test_RAD_df = pd.DataFrame(X_test_RAD.toarray(), columns=scaler.get_feature_names_out(['RAD']))\n",
        "X_test_transform = X_test_transform.join(X_test_RAD_df)"
      ],
      "metadata": {
        "id": "XeO1uoWL1eB4"
      },
      "execution_count": 27,
      "outputs": []
    },
    {
      "cell_type": "markdown",
      "source": [
        "Hay que notar que hemos creado dos dataframes distintos, uno para los datos de entrenamiento (train) y otro para los de prueba (test). Por otro lado, la variable dependiente, `MEDV`, la mantenemos separada, no tendría sentido incluirla como predictora de sí misma y les quitaría peso relativo al resto de variables, en tanto la que mejor explicaría `MEDV` sería `MEDV`, claro."
      ],
      "metadata": {
        "id": "lk-3LwkP1lHN"
      }
    },
    {
      "cell_type": "markdown",
      "source": [
        "Finalmente, ahora ya tenemos todas nuestras variables independientes en dos conjuntos: X_train_transform y X_test_transform. Mientras que la variable dependiente la tenemos en y_train.MEDV e y_test.MEDV, con esto ya podemos entrenar nuestros modelos."
      ],
      "metadata": {
        "id": "wN9E59ng34Xp"
      }
    },
    {
      "cell_type": "markdown",
      "source": [
        "# *EX01* Crea almenys dos models de regressió diferents per intentar predir el millor possible el preu de les vivendes (MEDV) de l'arxiu adjunt."
      ],
      "metadata": {
        "id": "KkpKwb8QOxLZ"
      }
    },
    {
      "cell_type": "code",
      "source": [
        "import numpy as np\n",
        "from sklearn.linear_model import LinearRegression"
      ],
      "metadata": {
        "id": "DSf_qEgZOtFo"
      },
      "execution_count": 20,
      "outputs": []
    },
    {
      "cell_type": "markdown",
      "source": [
        "Utilizaremos dos tipos de regresión lineal múltiple, una de primer grado: modelo 1 (model) y otra polinómica de segundo grado: modelo 2 (model2)."
      ],
      "metadata": {
        "id": "guNYSzswxoqU"
      }
    },
    {
      "cell_type": "markdown",
      "source": [
        "# Modelo 1 - regresión lineal múltiple"
      ],
      "metadata": {
        "id": "axhyxaBhkgZI"
      }
    },
    {
      "cell_type": "markdown",
      "source": [
        "En el primer modelo todas las variables del dataframe actúan como variables independientes (x) excepto MEDV, que actúa como variable dependiente (y)."
      ],
      "metadata": {
        "id": "D8EhdvB7dTjP"
      }
    },
    {
      "cell_type": "code",
      "source": [
        "x = np.array(X_train_transform)\n",
        "y = np.array(y_train)\n",
        "\n",
        "print(x.shape)\n",
        "y.shape"
      ],
      "metadata": {
        "colab": {
          "base_uri": "https://localhost:8080/"
        },
        "id": "Wk1IVwKFSjML",
        "outputId": "e897a42b-8397-43fe-8197-9081faa251e1"
      },
      "execution_count": 29,
      "outputs": [
        {
          "output_type": "stream",
          "name": "stdout",
          "text": [
            "(404, 21)\n"
          ]
        },
        {
          "output_type": "execute_result",
          "data": {
            "text/plain": [
              "(404,)"
            ]
          },
          "metadata": {},
          "execution_count": 29
        }
      ]
    },
    {
      "cell_type": "markdown",
      "source": [
        "Cargamos los datos para x e y, convirtiéndolos desde un dataframe (formato original) a dos arrays numpy, tal y como requiere el modelo. X es multidimensional (con 404 filas y 21 columnas), mientras y es unidimensional (con 404 filas)."
      ],
      "metadata": {
        "id": "TKSjhBEGcfCV"
      }
    },
    {
      "cell_type": "code",
      "source": [
        "model = LinearRegression().fit(x, y)"
      ],
      "metadata": {
        "id": "DEX3BHNDc1QA"
      },
      "execution_count": 31,
      "outputs": []
    },
    {
      "cell_type": "markdown",
      "source": [
        "Ajustamos el modelo a los datos de x e y."
      ],
      "metadata": {
        "id": "9K-KoDGNfIrn"
      }
    },
    {
      "cell_type": "code",
      "source": [
        "print(f\"intercept: {model.intercept_}\")\n",
        "print(f\"coefficients: {model.coef_}\")"
      ],
      "metadata": {
        "colab": {
          "base_uri": "https://localhost:8080/"
        },
        "id": "c8_oGViSfATs",
        "outputId": "674e7f11-7b95-4717-8976-20ac3a225e58"
      },
      "execution_count": 32,
      "outputs": [
        {
          "output_type": "stream",
          "name": "stdout",
          "text": [
            "intercept: 26.594280052113863\n",
            "coefficients: [ 0.25932839 -9.63770826  0.68346334 -4.03744671 -0.40771031  1.24641913\n",
            "  2.20923065 -4.70053874 -3.11435146  0.1496336  -5.50543247  2.08733149\n",
            " -3.25897562 -1.25156236  1.29106492 -0.54594855 -0.37352386 -2.51365337\n",
            "  1.75676861  0.36917488  4.52665534]\n"
          ]
        }
      ]
    },
    {
      "cell_type": "markdown",
      "source": [
        "Obtenemos el punto de intersección y los coeficientes, que correponden a la estructura: y = b0 + b1·x1 + b2·x2 + ...+ b21·x21. En este caso: y = 26.59 + 0.25·CRIM - 9.637·ZN + ... + 4.52·RAD_24"
      ],
      "metadata": {
        "id": "hCIiItDMh57y"
      }
    },
    {
      "cell_type": "markdown",
      "source": [
        "# Modelo 2 - regresión múltiple polinomial de grado 2"
      ],
      "metadata": {
        "id": "zSyF7UVCkrHP"
      }
    },
    {
      "cell_type": "markdown",
      "source": [
        "El segundo modelo es una regresión múltiple polinomial de grado 2."
      ],
      "metadata": {
        "id": "Ouee6IUzoQJf"
      }
    },
    {
      "cell_type": "code",
      "source": [
        "from sklearn.preprocessing import PolynomialFeatures"
      ],
      "metadata": {
        "id": "Yw2U8209ndan"
      },
      "execution_count": 42,
      "outputs": []
    },
    {
      "cell_type": "code",
      "source": [
        "x_ = PolynomialFeatures(degree=2, include_bias=False).fit_transform(x)\n",
        "x_"
      ],
      "metadata": {
        "id": "JldLm4uCpHIG",
        "colab": {
          "base_uri": "https://localhost:8080/"
        },
        "outputId": "82bfa7a1-0232-46cc-f31d-0f2371753746"
      },
      "execution_count": 43,
      "outputs": [
        {
          "output_type": "execute_result",
          "data": {
            "text/plain": [
              "array([[0.23643695, 0.12962963, 0.03810505, ..., 0.        , 0.        ,\n",
              "        0.        ],\n",
              "       [0.17118768, 0.1399177 , 0.27085479, ..., 1.        , 0.        ,\n",
              "        0.        ],\n",
              "       [0.64662757, 0.64814815, 0.98043254, ..., 0.        , 0.        ,\n",
              "        1.        ],\n",
              "       ...,\n",
              "       [0.64662757, 0.63374486, 0.95880536, ..., 0.        , 0.        ,\n",
              "        1.        ],\n",
              "       [0.21041056, 0.25102881, 0.60350154, ..., 1.        , 0.        ,\n",
              "        0.        ],\n",
              "       [0.2016129 , 0.2345679 , 0.39752832, ..., 0.        , 0.        ,\n",
              "        0.        ]])"
            ]
          },
          "metadata": {},
          "execution_count": 43
        }
      ]
    },
    {
      "cell_type": "markdown",
      "source": [
        "Transformamos la variable x para incluir los valores de x al cuadrado, y sin incluir el término de sesgo (include_bias=False), ya que por defecto ya lo aplica la regresión lineal que ajustamos a continuación."
      ],
      "metadata": {
        "id": "cfDP62nbqPJw"
      }
    },
    {
      "cell_type": "code",
      "source": [
        "model2 = LinearRegression().fit(x_, y)"
      ],
      "metadata": {
        "id": "MfZfqzz6qfq7"
      },
      "execution_count": 44,
      "outputs": []
    },
    {
      "cell_type": "markdown",
      "source": [
        "Ajustamos el modelo ..."
      ],
      "metadata": {
        "id": "EHq0K75Fqy79"
      }
    },
    {
      "cell_type": "code",
      "source": [
        "print(f\"intercept: {model2.intercept_}\")\n",
        "print(f\"coefficients: {model2.coef_}\")"
      ],
      "metadata": {
        "colab": {
          "base_uri": "https://localhost:8080/"
        },
        "id": "4TPTXJJhqzh1",
        "outputId": "6dd6100b-1f59-4156-aed7-7f0df416ae8f"
      },
      "execution_count": 62,
      "outputs": [
        {
          "output_type": "stream",
          "name": "stdout",
          "text": [
            "intercept: 27884373786.446785\n",
            "coefficients: [-3.14631737e+11  3.35964161e+09 -5.25293350e+00  3.47520395e+10\n",
            "  3.67476463e+01 -4.86231049e+09  2.98380280e+00 -1.85393829e+01\n",
            " -1.00933563e+09  9.83657837e-01  2.24794769e+00  1.67074203e+00\n",
            " -1.39421869e+10 -1.39421869e+10 -1.39421869e+10 -1.39421869e+10\n",
            " -1.39421869e+10 -1.33865867e+10  2.82639927e+10  1.26245597e+10\n",
            "  4.22089687e+10  2.89235001e+01  6.72721939e+01  1.35045853e+01\n",
            "  1.52367172e+01  4.43116455e+01 -2.84690094e+00  8.57063293e+00\n",
            "  1.35340042e+01 -1.77408600e+00 -2.03761292e+00 -2.57736206e+00\n",
            " -1.49931183e+01  3.14631737e+11  3.14631737e+11  3.14631737e+11\n",
            "  3.14631737e+11  3.14631737e+11  8.21795440e+10  3.60807678e+10\n",
            "  2.62873020e+09  2.72934827e+10  2.50022984e+01 -3.05710335e+01\n",
            " -4.67205553e+01 -1.10451317e+00  9.94004822e+00  5.24969101e-02\n",
            "  4.58684731e+01  2.46047211e+00 -8.61740112e-03  7.38985252e+00\n",
            " -1.00586858e+01 -3.35964161e+09 -3.35964166e+09 -3.35964159e+09\n",
            " -3.35964164e+09 -3.35964161e+09  4.25030624e+10 -1.56259295e+10\n",
            " -3.35964157e+09 -3.35964162e+09  1.16769409e+00 -9.78746605e+00\n",
            " -2.08950043e-01 -7.32424736e-01 -2.78951263e+00 -2.98265839e+00\n",
            " -2.51384544e+00 -1.76129150e+00 -1.06163197e+01  2.29335690e+00\n",
            " -3.60657501e+00 -1.02191010e+01 -3.69403076e+00 -1.88636780e-02\n",
            "  7.24189758e-01  6.87007332e+00 -1.16093636e+00 -8.49322128e+00\n",
            "  1.39527092e+01 -8.27646255e-03 -6.31556511e+01  3.03080034e+00\n",
            " -6.42903519e+00  4.81468201e+00  1.99296722e+01  2.85116386e+00\n",
            " -2.51445389e+00 -6.97582245e-01 -3.47520395e+10 -3.47520396e+10\n",
            " -3.47520395e+10 -3.47520395e+10 -3.47520394e+10  1.13979664e+11\n",
            "  5.30881979e+10  2.86022253e+09  3.85841527e+10  4.38919067e-02\n",
            "  1.43854237e+00  1.91106796e-01  6.38694763e-01  1.50040054e+00\n",
            " -1.09100342e-02  5.91377258e-01  8.85500336e+00  2.03555618e+02\n",
            " -6.74892939e+01 -3.17521420e+01 -4.10126441e+01 -3.69154968e+01\n",
            "  2.24793601e+01  1.79410604e+01 -2.07281782e+01 -9.15274811e+00\n",
            " -7.50503540e-02  1.48760223e+00  6.97002411e-01  6.00074768e-01\n",
            "  1.66275024e-01  2.26554871e-02 -1.84581375e+00  4.86231049e+09\n",
            "  4.86231049e+09  4.86231049e+09  4.86231049e+09  4.86231049e+09\n",
            "  1.15116538e+10 -4.15654384e+10  8.79921623e+08  7.62939453e-06\n",
            " -6.45065308e-03  8.22183609e-01 -1.65678406e+00 -3.28674316e-02\n",
            " -1.17699814e+00 -3.70264053e+00 -2.14044189e+00  3.88087273e+00\n",
            "  1.83944511e+00 -5.84257126e-01  9.69238281e-01 -3.58352470e+00\n",
            " -6.70161247e-01  2.75241852e+00  5.03509521e-01  4.11872292e+00\n",
            " -8.77304077e-02 -6.87026978e-01  2.95847034e+00  1.99255896e+00\n",
            "  8.28458166e+00  6.05316162e-02  6.70966148e+00 -1.60389709e+00\n",
            "  6.53713226e-01  5.75040340e+00  3.83560944e+00 -7.93815613e+00\n",
            " -3.42735214e+01  3.47259521e-01  7.26970673e-01  1.35807800e+00\n",
            " -5.01417160e+00  1.00933563e+09  1.00933563e+09  1.00933563e+09\n",
            "  1.00933563e+09  1.00933563e+09  1.23243647e+10 -2.91603861e+10\n",
            " -6.24545874e+09  1.70254664e+10 -8.80241394e-03 -1.33430481e-01\n",
            "  4.11407471e-01  1.34466696e+00  2.36576080e-01  1.49155235e+00\n",
            "  6.08291626e-01  1.90004635e+00  1.24392033e-01 -2.75528717e+00\n",
            " -7.81991959e-01 -1.15474701e+00  2.02838516e+00 -3.24011898e+00\n",
            " -5.41213989e+00  3.20525599e+00  2.47148418e+00  1.28782272e+00\n",
            "  8.71437073e-01 -1.78631687e+00  5.47271729e-01  6.94795227e+00\n",
            " -5.88655281e+00  1.64995861e+00 -1.22478352e+01  0.00000000e+00\n",
            "  4.75319386e+00  3.37950134e+00  1.58703613e+00  0.00000000e+00\n",
            "  0.00000000e+00 -9.30860519e-01  5.10862923e+00 -1.39421869e+10\n",
            "  0.00000000e+00  0.00000000e+00  0.00000000e+00  0.00000000e+00\n",
            "  0.00000000e+00  0.00000000e+00  0.00000000e+00  0.00000000e+00\n",
            " -1.39421869e+10  0.00000000e+00  0.00000000e+00  0.00000000e+00\n",
            "  0.00000000e+00  0.00000000e+00  0.00000000e+00  0.00000000e+00\n",
            " -1.39421869e+10  0.00000000e+00  0.00000000e+00  0.00000000e+00\n",
            "  0.00000000e+00  0.00000000e+00  0.00000000e+00 -1.39421869e+10\n",
            "  0.00000000e+00  0.00000000e+00  0.00000000e+00  0.00000000e+00\n",
            "  0.00000000e+00 -1.39421869e+10  0.00000000e+00  0.00000000e+00\n",
            "  0.00000000e+00  0.00000000e+00 -1.33865867e+10  0.00000000e+00\n",
            "  0.00000000e+00  0.00000000e+00  2.82639927e+10  0.00000000e+00\n",
            "  0.00000000e+00  1.26245597e+10  0.00000000e+00  4.22089687e+10]\n"
          ]
        }
      ]
    },
    {
      "cell_type": "markdown",
      "source": [
        "... y de manera similar al modelo de grado 1, obtenemos los valores de intersección y coeficientes, que incluyen los valores de x, de x2 y de todas las intersecciones entre las x, de dos en dos: x1·x2, x1·x3, x1·x4 ... x20·x21. Por lo tanto, sería: 27884373786.446785 + -3.14631737e+11 · CRIM + ... + 4.22089687e+10 · RAD_23 · RAD_24"
      ],
      "metadata": {
        "id": "pUUx3ppwy4Wo"
      }
    },
    {
      "cell_type": "markdown",
      "source": [
        "# *EX02* Compara’ls en base al MSE i al R2."
      ],
      "metadata": {
        "id": "dbPOqZYY0hoO"
      }
    },
    {
      "cell_type": "markdown",
      "source": [
        "R2 en el primer modelo y segundo modelo, respectivamente:\n",
        "\n"
      ],
      "metadata": {
        "id": "7nlEKybT0NjF"
      }
    },
    {
      "cell_type": "code",
      "source": [
        "print('R2 (regresión lineal): '+str(model.score(x, y).round(2)))\n",
        "print('R2 (regresión polinomial): '+str(model2.score(x_, y).round(2)))"
      ],
      "metadata": {
        "id": "xcYIuEVa0k1m",
        "colab": {
          "base_uri": "https://localhost:8080/"
        },
        "outputId": "a3693acc-6e0f-4a09-bb6e-c1186adc6612"
      },
      "execution_count": 80,
      "outputs": [
        {
          "output_type": "stream",
          "name": "stdout",
          "text": [
            "R2 (regresión lineal): 0.74\n",
            "R2 (regresión polinomial): 0.95\n"
          ]
        }
      ]
    },
    {
      "cell_type": "markdown",
      "source": [
        "Una R2 más próxima a 1 se interpreta en general como una mejor aproximación, lo cual haría al segundo modelo (polinomial) mejor que el primero en la previsión del precio de la vivienda. Por otro lado hay que tener en cuenta que también se corre el riesgo de sobreajuste del modelo a los datos, lo que podría llegar a suceder en el segundo caso con un valor de R2 de 0.94, pero esto lo comprobaremos en el ejercicio 4 con los datos de prueba que separamos (test)."
      ],
      "metadata": {
        "id": "jxvhPx-N8gSu"
      }
    },
    {
      "cell_type": "markdown",
      "source": [
        "MSE en el primer y segundo modelos respectivamente:"
      ],
      "metadata": {
        "id": "Q9ZFikp00__2"
      }
    },
    {
      "cell_type": "code",
      "source": [
        "from sklearn.metrics import mean_squared_error\n",
        "import math\n",
        "\n",
        "y_ = model.predict(x)\n",
        "y_2 = model2.predict(x_)\n",
        "\n",
        "print('MSE (regresión lineal): '+str(mean_squared_error(y, y_).round(2)))\n",
        "print('MSE (regresión polinomial): '+str(mean_squared_error(y, y_2).round(2)))"
      ],
      "metadata": {
        "colab": {
          "base_uri": "https://localhost:8080/"
        },
        "id": "KHkuac-z1Zmx",
        "outputId": "86589d24-4d6b-4ce4-d591-f658ffe93dc4"
      },
      "execution_count": 81,
      "outputs": [
        {
          "output_type": "stream",
          "name": "stdout",
          "text": [
            "MSE (regresión lineal): 21.04\n",
            "MSE (regresión polinomial): 4.25\n"
          ]
        }
      ]
    },
    {
      "cell_type": "markdown",
      "source": [
        "Que el MSE sea de 21 significa que en promedio el modelo se equivoca en 4.58 miles de dólares (raíz de 21) en la previsión del precio de la vivienda en base a los valores de las variables.  \n",
        "En este caso vemos como el error es significativamente mayor que el que se comete con un modelo cuadrático, de 2.06 miles de dólares (raíz de 4.24).\n",
        "Es decir, 4.580 frente a 2.060 dólares de error en promedio. Mejor el modelo de grado 2 también según este segundo parámetro de medida del rendimiento."
      ],
      "metadata": {
        "id": "PfI-d_JP6d60"
      }
    },
    {
      "cell_type": "markdown",
      "source": [
        "# EX03 Entrena’ls utilitzant els diferents paràmetres que admeten per intentar millorar-ne la predicció."
      ],
      "metadata": {
        "id": "AAX0qcBl0TrP"
      }
    },
    {
      "cell_type": "markdown",
      "source": [
        "# Modelo lineal"
      ],
      "metadata": {
        "id": "teAiKcf3gfls"
      }
    },
    {
      "cell_type": "markdown",
      "source": [
        "En primer lugar vamos a obtener los parámetros previos de nuestro modelo lineal:"
      ],
      "metadata": {
        "id": "S_sc3liyX9Uc"
      }
    },
    {
      "cell_type": "code",
      "source": [
        "print('Modelo lineal: '+str(model.get_params()))"
      ],
      "metadata": {
        "colab": {
          "base_uri": "https://localhost:8080/"
        },
        "id": "ZLkK-5EzX6--",
        "outputId": "75a794ae-b674-4dcb-bc54-4e9205fe0152"
      },
      "execution_count": 69,
      "outputs": [
        {
          "output_type": "stream",
          "name": "stdout",
          "text": [
            "Modelo lineal: {'copy_X': True, 'fit_intercept': True, 'n_jobs': None, 'positive': False}\n"
          ]
        }
      ]
    },
    {
      "cell_type": "markdown",
      "source": [
        "Hay solamente dos parámetros que pueden afectar al rendimiento del modelo lineal: `fit_intercept` y `positive`, que se refieren a si queremos utilizar una constante en el modelo o no, y si los coeficientes del modelo deben ser necesariamente positivos o no. Vamos utilizar GridSearchCV para evaluarlos."
      ],
      "metadata": {
        "id": "1tEYC76vgYLo"
      }
    },
    {
      "cell_type": "code",
      "source": [
        "from sklearn.model_selection import GridSearchCV"
      ],
      "metadata": {
        "id": "CdXKkhEAhhy1"
      },
      "execution_count": 70,
      "outputs": []
    },
    {
      "cell_type": "code",
      "source": [
        "param_grid = {\n",
        "    'fit_intercept': [True, False],\n",
        "    'positive': [True, False]\n",
        "}\n",
        "model0 = LinearRegression()\n",
        "model_grid = GridSearchCV(model0, param_grid)\n",
        "\n",
        "model_grid.fit(x, y)\n",
        "\n",
        "print(\"Mejores parámetros:\", model_grid.best_params_)"
      ],
      "metadata": {
        "colab": {
          "base_uri": "https://localhost:8080/"
        },
        "id": "cVxEIcmpf4x3",
        "outputId": "4a4b6fad-6769-40ae-8168-d394df6425b5"
      },
      "execution_count": 72,
      "outputs": [
        {
          "output_type": "stream",
          "name": "stdout",
          "text": [
            "Mejores parámetros: {'fit_intercept': False, 'positive': False}\n"
          ]
        }
      ]
    },
    {
      "cell_type": "markdown",
      "source": [
        "De acuerdo con el método GridSearchCV de la librería scikit-learn (sklearn), ambos parámetros deben establecerse como `False`, para optimizar el rendimiento del modelo lineal."
      ],
      "metadata": {
        "id": "YuSvMPN9ibJc"
      }
    },
    {
      "cell_type": "markdown",
      "source": [
        "Entonces, vamos a obtener el nuevo rendimiento utilizando los parámetros óptimos:"
      ],
      "metadata": {
        "id": "kd6bfiV0j9aC"
      }
    },
    {
      "cell_type": "code",
      "source": [
        "print('Regresión lineal con parámetros óptimos:\\n')\n",
        "print('R2: '+str(model_grid.score(x, y).round(2)))\n",
        "y_ = model_grid.predict(x)\n",
        "print('MSE: '+str(mean_squared_error(y, y_).round(2)))"
      ],
      "metadata": {
        "id": "NDbjlHgN0rvX",
        "colab": {
          "base_uri": "https://localhost:8080/"
        },
        "outputId": "4419ca90-7927-4290-82ee-d53899268eaa"
      },
      "execution_count": 75,
      "outputs": [
        {
          "output_type": "stream",
          "name": "stdout",
          "text": [
            "Regresión lineal con parámetros óptimos:\n",
            "\n",
            "R2: 0.74\n",
            "MSE: 21.04\n"
          ]
        }
      ]
    },
    {
      "cell_type": "markdown",
      "source": [
        "Los rendimientos anteriores, sin cambiar los parámetros, eran exactamente los mismos para el modelo lineal, por lo tanto su variación no afecta a la capacidad predictiva del modelo lineal."
      ],
      "metadata": {
        "id": "Rdz78s7xmkIf"
      }
    },
    {
      "cell_type": "markdown",
      "source": [
        "Seguimos con el modelo cuadrático:"
      ],
      "metadata": {
        "id": "msPYnJNQm3vU"
      }
    },
    {
      "cell_type": "code",
      "source": [
        "print('Modelo polinomial: '+str(model2.get_params()))"
      ],
      "metadata": {
        "colab": {
          "base_uri": "https://localhost:8080/"
        },
        "id": "gpLXgjwCj8qV",
        "outputId": "d2f576f7-717d-493c-c86c-681a27e86992"
      },
      "execution_count": 77,
      "outputs": [
        {
          "output_type": "stream",
          "name": "stdout",
          "text": [
            "Modelo polinomial: {'copy_X': True, 'fit_intercept': True, 'n_jobs': None, 'positive': False}\n"
          ]
        }
      ]
    },
    {
      "cell_type": "markdown",
      "source": [
        "Arriba los parámetros por defecto. Abajo los parámetros óptimos."
      ],
      "metadata": {
        "id": "uJWcaLJ8qWQS"
      }
    },
    {
      "cell_type": "code",
      "source": [
        "model_grid_2 = GridSearchCV(model0, param_grid)\n",
        "model_grid_2.fit(x_, y)\n",
        "print(\"Mejores parámetros:\", model_grid_2.best_params_)"
      ],
      "metadata": {
        "colab": {
          "base_uri": "https://localhost:8080/"
        },
        "id": "NvfRiG2QpEEZ",
        "outputId": "b22f5f59-6897-4e24-a8a4-c7c6dd9a444c"
      },
      "execution_count": 78,
      "outputs": [
        {
          "output_type": "stream",
          "name": "stdout",
          "text": [
            "Mejores parámetros: {'fit_intercept': False, 'positive': True}\n"
          ]
        }
      ]
    },
    {
      "cell_type": "markdown",
      "source": [
        "A continuación medimos el rendimiento del modelo con los nuevos parámetros:"
      ],
      "metadata": {
        "id": "bQNClww8qmfg"
      }
    },
    {
      "cell_type": "code",
      "source": [
        "print('Regresión polinomial con parámetros óptimos:\\n')\n",
        "print('R2: '+str(model_grid_2.score(x_, y).round(2)))\n",
        "y_2_grid = model_grid_2.predict(x_)\n",
        "print('MSE: '+str(mean_squared_error(y, y_2_grid).round(2)))"
      ],
      "metadata": {
        "colab": {
          "base_uri": "https://localhost:8080/"
        },
        "id": "fePk7A9bq1It",
        "outputId": "69a029bb-ed48-4339-8808-c41860482022"
      },
      "execution_count": 79,
      "outputs": [
        {
          "output_type": "stream",
          "name": "stdout",
          "text": [
            "Regresión polinomial con parámetros óptimos:\n",
            "\n",
            "R2: 0.8\n",
            "MSE: 16.04\n"
          ]
        }
      ]
    },
    {
      "cell_type": "markdown",
      "source": [
        "Recordemos que el rendimiento para el modelo polinomial con los parámetros por defecto era: R2=0.95 y MSE=4.25"
      ],
      "metadata": {
        "id": "PO_ZHpyKrbLC"
      }
    },
    {
      "cell_type": "markdown",
      "source": [
        "Por lo tanto, no sólo no mejoramos el rendimiento cambiando el valor de los parámetros, sino que lo empeoramos, siendo la explicación más inmediata la de un sobreajuste del modelo a los datos de entrenamiento que se da al optimizarlos."
      ],
      "metadata": {
        "id": "X34j1G9esBHs"
      }
    },
    {
      "cell_type": "markdown",
      "source": [
        "# EX04. Compara el seu rendiment emprant l’aproximació train/test o emprant totes les dades (validació interna)."
      ],
      "metadata": {
        "id": "QB-pp4vH0zBW"
      }
    },
    {
      "cell_type": "markdown",
      "source": [
        "# **Modelo lineal**"
      ],
      "metadata": {
        "id": "T8QHue01GI3B"
      }
    },
    {
      "cell_type": "markdown",
      "source": [
        "En este caso vamos a hacer la comparación sin transformar los datos, es decir, con los datos originales."
      ],
      "metadata": {
        "id": "D4HMuKRi5-v9"
      }
    },
    {
      "cell_type": "code",
      "source": [
        "print('Rendimiento del modelo lineal utilizando todos los datos:\\n')\n",
        "modelo_completo = LinearRegression().fit(X, viviendas.MEDV)\n",
        "print('R2: '+str(modelo_completo.score(X, viviendas.MEDV)))\n",
        "y_prevista = modelo_completo.predict(X)\n",
        "print('MSE: '+str(mean_squared_error(viviendas.MEDV, y_prevista)))"
      ],
      "metadata": {
        "colab": {
          "base_uri": "https://localhost:8080/"
        },
        "id": "yHAUza2RBazp",
        "outputId": "e9703b42-c5a8-4494-8c18-08067045e3f3"
      },
      "execution_count": 105,
      "outputs": [
        {
          "output_type": "stream",
          "name": "stdout",
          "text": [
            "Rendimiento del modelo lineal utilizando todos los datos:\n",
            "\n",
            "R2: 0.7406426641094095\n",
            "MSE: 21.894831181729202\n"
          ]
        }
      ]
    },
    {
      "cell_type": "code",
      "source": [
        "print('Rendimiento del modelo lineal utilizando train/test:\\n')\n",
        "\n",
        "modelo_train_test = LinearRegression().fit(X_train, y_train)\n",
        "print('R2: '+str(modelo_train_test.score(X_test, y_test)))\n",
        "y_train_test = modelo_train_test.predict(X_test)\n",
        "print('MSE: '+str(mean_squared_error(y_test, y_train_test)))"
      ],
      "metadata": {
        "colab": {
          "base_uri": "https://localhost:8080/"
        },
        "id": "LYL4eao6DGnt",
        "outputId": "2db7f528-5a14-4e38-9fb2-c09c0014d807"
      },
      "execution_count": 107,
      "outputs": [
        {
          "output_type": "stream",
          "name": "stdout",
          "text": [
            "Rendimiento del modelo lineal utilizando train/test:\n",
            "\n",
            "R2: 0.7634174432138461\n",
            "MSE: 23.380836480270336\n"
          ]
        }
      ]
    },
    {
      "cell_type": "markdown",
      "source": [
        "Podemos ver como el rendimiento del modelo lineal es algo inferior utilizando el modelo train/test que utilizando todos los datos, lo que tiene su sentido al trabajar con un número mayor de observaciones para hacer las predicciones."
      ],
      "metadata": {
        "id": "f5z9SUlAFbg9"
      }
    },
    {
      "cell_type": "markdown",
      "source": [
        "# Modelo polinomial:"
      ],
      "metadata": {
        "id": "YRm7CG_Ht_jD"
      }
    },
    {
      "cell_type": "code",
      "source": [
        "print('Rendimiento del modelo polinomial utilizando todos los datos:\\n')\n",
        "X_completo = PolynomialFeatures(degree=2, include_bias=False).fit_transform(X)\n",
        "modelo_poli_completo = LinearRegression().fit(X_completo, viviendas.MEDV)\n",
        "print('R2: '+str(modelo_poli_completo.score(X_completo, viviendas.MEDV)))\n",
        "y_poli_completo = modelo_poli_completo.predict(X_completo)\n",
        "print('MSE: '+str(mean_squared_error(viviendas.MEDV, y_poli_completo)))"
      ],
      "metadata": {
        "colab": {
          "base_uri": "https://localhost:8080/"
        },
        "id": "3mZ9gIWtGftS",
        "outputId": "21ad63e3-ebcd-46b8-ec9a-9cedab21be2f"
      },
      "execution_count": 108,
      "outputs": [
        {
          "output_type": "stream",
          "name": "stdout",
          "text": [
            "Rendimiento del modelo polinomial utilizando todos los datos:\n",
            "\n",
            "R2: 0.9289961714593018\n",
            "MSE: 5.994111690794227\n"
          ]
        }
      ]
    },
    {
      "cell_type": "code",
      "source": [
        "print('Rendimiento del modelo polinomial utilizando train/test:\\n')\n",
        "X_poli_train = PolynomialFeatures(degree=2, include_bias=False).fit_transform(X_train)\n",
        "modelo_poli_train_test = LinearRegression().fit(X_poli_train, y_train)\n",
        "X_poli_test = PolynomialFeatures(degree=2, include_bias=False).fit_transform(X_test)\n",
        "print('R2: '+str(modelo_poli_train_test.score(X_poli_test, y_test)))\n",
        "y_poli_test = modelo_poli_train_test.predict(X_poli_test)\n",
        "print('MSE: '+str(mean_squared_error(y_test, y_poli_test)))"
      ],
      "metadata": {
        "colab": {
          "base_uri": "https://localhost:8080/"
        },
        "id": "b-llwz9LIcUf",
        "outputId": "a9fa08ec-e35d-4e41-81a3-7b53ba151c1b"
      },
      "execution_count": 109,
      "outputs": [
        {
          "output_type": "stream",
          "name": "stdout",
          "text": [
            "Rendimiento del modelo polinomial utilizando train/test:\n",
            "\n",
            "R2: 0.9116244055454207\n",
            "MSE: 8.733929292415759\n"
          ]
        }
      ]
    },
    {
      "cell_type": "markdown",
      "source": [
        "El modelo polinomial también muestra un rendimiento algo superior utilizando todos los datos que con train/test."
      ],
      "metadata": {
        "id": "y4L_BLfwQkdP"
      }
    },
    {
      "cell_type": "markdown",
      "source": [
        "# EX05 No facis servir la variable del nombre d'habitacions (RM) a l’hora de fer prediccions."
      ],
      "metadata": {
        "id": "0AQF2Teu06p2"
      }
    },
    {
      "cell_type": "markdown",
      "source": [
        "Vamos a utilizar el modelo polinomial con train/test, ya que sería el que generalmente utilizaríamos, para evaluar las diferencias:"
      ],
      "metadata": {
        "id": "J2XiuQtERjVo"
      }
    },
    {
      "cell_type": "markdown",
      "source": [
        "En primer lugar redefinimos X:"
      ],
      "metadata": {
        "id": "WbQnF-kbS0rl"
      }
    },
    {
      "cell_type": "code",
      "source": [
        "X_train_sin_RM = X_train.drop('RM', axis=1)\n",
        "X_test_sin_RM = X_test.drop('RM', axis=1)"
      ],
      "metadata": {
        "id": "iGz2DeXwSz-x"
      },
      "execution_count": 112,
      "outputs": []
    },
    {
      "cell_type": "code",
      "source": [
        "print('Modelo polinomial utilizando train/test sin `RM`:\\n')\n",
        "X_poli_train_sin_RM = PolynomialFeatures(degree=2, include_bias=False).fit_transform(X_train_sin_RM)\n",
        "modelo_poli_sin_RM = LinearRegression().fit(X_poli_train_sin_RM, y_train)\n",
        "X_poli_test_sin_RM = PolynomialFeatures(degree=2, include_bias=False).fit_transform(X_test_sin_RM)\n",
        "print('R2: '+str(modelo_poli_sin_RM.score(X_poli_test_sin_RM, y_test)))\n",
        "y_poli_sin_RM = modelo_poli_sin_RM.predict(X_poli_test_sin_RM)\n",
        "print('MSE: '+str(mean_squared_error(y_test, y_poli_sin_RM)))"
      ],
      "metadata": {
        "colab": {
          "base_uri": "https://localhost:8080/"
        },
        "id": "Ht4aedL7SQn0",
        "outputId": "61aaf142-1279-42f6-a899-e855a28ea106"
      },
      "execution_count": 113,
      "outputs": [
        {
          "output_type": "stream",
          "name": "stdout",
          "text": [
            "Modelo polinomial utilizando train/test sin `RM`:\n",
            "\n",
            "R2: 0.8262413537202487\n",
            "MSE: 17.172113408902707\n"
          ]
        }
      ]
    },
    {
      "cell_type": "markdown",
      "source": [
        "Vemos como el rendimiento disminuye en el caso de no utilizar `RM`, lo que refleja su alto valor predictivo del precio."
      ],
      "metadata": {
        "id": "QkAFExhpVYNb"
      }
    },
    {
      "cell_type": "markdown",
      "source": [
        "# Síntesis\n",
        "\n",
        "| Modelo de Regresión | R2 | MSE |\n",
        "| ------------------- | -- | --- |\n",
        "| Regresión Lineal con datos transformados y parámetros por defecto | 0.74 | 21.04 |\n",
        "| Regresión Polinomial con datos transformados y parámetros por defecto | 0.95 | 4.25 |\n",
        "| Regresión Lineal con parámetros óptimos y datos transformados | 0.74 | 21.04 |\n",
        "| Regresión Polinomial con parámetros óptimos, modelo train/test y datos transformados | 0.8 | 16.04 |\n",
        "| Modelo Lineal utilizando todos los datos pero sin transformarlos | 0.74 | 21.89 |\n",
        "| Modelo Lineal utilizando train/test sin transformar los datos | 0.76 | 23.38 |\n",
        "| Modelo Polinómico utilizando todos los datos | 0.92 | 5.99 |\n",
        "| Modelo Polinómico utilizando train/test | 0.91 | 8.73 |\n",
        "| Modelo Polinómico utilizando train/test sin `RM` | 0.82 | 17.17 |\n"
      ],
      "metadata": {
        "id": "-eT8pbN4dBMo"
      }
    },
    {
      "cell_type": "markdown",
      "source": [
        "Resumiendo ...\n",
        "\n",
        "Como podemos comprobar en la tabla anterior, que sintetiza las variaciones realizadas, el modelo que mejor puede predecir el precio de las viviendas en los suburbios de Boston en los años 70 de entre los utilizados, es el polinómico de grado dos con los datos transformados (0.95 y 4.25), al que le seguiría el mismo modelo con las variables sin transformar pero utilizando todos los datos (0.92 y 5.99), lo que no es recomendable, pues se puede incurrir en un sobreajuste, y no representa una gran mejora respecto al modelo train/test polinomial con los datos sin transformar (0.91 y 8.73). Los modelos lineales presentan un rendimiento claramente inferior y optimizar los parámetros en este caso empeora el rendimiento."
      ],
      "metadata": {
        "id": "s2yKqsIaeBnA"
      }
    }
  ]
}